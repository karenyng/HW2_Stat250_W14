{
 "metadata": {
  "name": ""
 },
 "nbformat": 3,
 "nbformat_minor": 0,
 "worksheets": [
  {
   "cells": [
    {
     "cell_type": "markdown",
     "metadata": {},
     "source": [
      "Stat 250 HW 2 with Prof. Duncan Temple Lang\n",
      "\n",
      "Author: (Karen) Yin-Yee Ng <karenyng@ucdavis.edu>\n",
      "\n",
      "Github repository: https://github.com/karenyng\n",
      "\n"
     ]
    },
    {
     "cell_type": "code",
     "collapsed": false,
     "input": [
      "%autosave 60\n",
      "\n",
      "# the following two lines allows the generating \n",
      "# a floating table of content \n",
      "# currently does not work with nbviewer online\n",
      "# I may fix it someday during my infinite spare time \n",
      "%load_ext nbtoc\n",
      "%nbtoc\n",
      "\n",
      "# call R from python using rpy2 \n",
      "%load_ext rmagic \n"
     ],
     "language": "python",
     "metadata": {},
     "outputs": [
      {
       "javascript": [
        "IPython.notebook.set_autosave_interval(60000)"
       ],
       "metadata": {},
       "output_type": "display_data"
      },
      {
       "output_type": "stream",
       "stream": "stdout",
       "text": [
        "Autosaving every 60 seconds\n",
        "The nbtoc extension is already loaded. To reload it, use:\n",
        "  %reload_ext nbtoc\n"
       ]
      },
      {
       "html": [
        "<!-- extracted from https://gist.github.com/magican/5574556 -->\n",
        "<div id=\"toc-wrapper\">\n",
        "    <div class=\"header\">Contents <a href=\"#\" class=\"hide-btn\">[hide]</a></div>\n",
        "    <div id=\"toc\"></div>\n",
        "</div>\n",
        " \n",
        "<style>\n",
        "  #toc {\n",
        "    overflow-y: scroll;\n",
        "    max-height: 300px;\n",
        "  }\n",
        "  #toc-wrapper {\n",
        "    position: fixed; top: 120px; max-width:430px; right: 20px;\n",
        "    border: thin solid rgba(0, 0, 0, 0.38); opacity: .8;\n",
        "    border-radius: 5px; background-color: #fff; padding:10px;\n",
        "    z-index: 100;\n",
        "  }\n",
        "  #toc-wrapper.closed {\n",
        "      min-width: 100px;\n",
        "      width: auto;\n",
        "      transition: width;\n",
        "  }\n",
        "  #toc-wrapper:hover{\n",
        "      opacity:1;\n",
        "  }\n",
        "  #toc-wrapper .header {\n",
        "      font-size:18px; font-weight: bold;\n",
        "  }\n",
        "  #toc-wrapper .hide-btn {\n",
        "      font-size: 14px;\n",
        "  }\n",
        " \n",
        "</style>\n",
        "\n",
        "<style>\n",
        "  ol.nested {\n",
        "    counter-reset: item;\n",
        "    list-style: none;\n",
        "  }\n",
        "  li.nested {\n",
        "        display: block;\n",
        "    }\n",
        "  li.nested:before {\n",
        "        counter-increment: item;\n",
        "        content: counters(item, \".\")\" \";\n",
        "    }\n",
        "</style>\n"
       ],
       "metadata": {},
       "output_type": "display_data"
      },
      {
       "javascript": [
        "// adapted from https://gist.github.com/magican/5574556\n",
        "\n",
        "function clone_anchor(element) {\n",
        "  // clone link\n",
        "  var h = element.find(\"div.text_cell_render\").find(':header').first();\n",
        "  var a = h.find('a').clone();\n",
        "  var new_a = $(\"<a>\");\n",
        "  new_a.attr(\"href\", a.attr(\"href\"));\n",
        "  // get the text *excluding* the link text, whatever it may be\n",
        "  var hclone = h.clone();\n",
        "  hclone.children().remove();\n",
        "  new_a.text(hclone.text());\n",
        "  return new_a;\n",
        "}\n",
        "\n",
        "function ol_depth(element) {\n",
        "  // get depth of nested ol\n",
        "  var d = 0;\n",
        "  while (element.prop(\"tagName\").toLowerCase() == 'ol') {\n",
        "    d += 1;\n",
        "    element = element.parent();\n",
        "  }\n",
        "  return d;\n",
        "}\n",
        "\n",
        "function table_of_contents(threshold) {\n",
        "  if (threshold === undefined) {\n",
        "    threshold = 4;\n",
        "  }\n",
        "  var cells = IPython.notebook.get_cells();\n",
        "  \n",
        "  var ol = $(\"<ol/>\");\n",
        "  $(\"#toc\").empty().append(ol);\n",
        "  \n",
        "  for (var i=0; i < cells.length; i++) {\n",
        "    var cell = cells[i];\n",
        "    \n",
        "    if (cell.cell_type !== 'heading') continue;\n",
        "    \n",
        "    var level = cell.level;\n",
        "    if (level > threshold) continue;\n",
        "    \n",
        "    var depth = ol_depth(ol);\n",
        "\n",
        "    // walk down levels\n",
        "    for (; depth < level; depth++) {\n",
        "      var new_ol = $(\"<ol/>\");\n",
        "      ol.append(new_ol);\n",
        "      ol = new_ol;\n",
        "    }\n",
        "    // walk up levels\n",
        "    for (; depth > level; depth--) {\n",
        "      ol = ol.parent();\n",
        "    }\n",
        "    //\n",
        "    ol.append(\n",
        "      $(\"<li/>\").append(clone_anchor(cell.element))\n",
        "    );\n",
        "  }\n",
        "\n",
        "  $('#toc-wrapper .header').click(function(){\n",
        "    $('#toc').slideToggle();\n",
        "    $('#toc-wrapper').toggleClass('closed');\n",
        "    if ($('#toc-wrapper').hasClass('closed')){\n",
        "      $('#toc-wrapper .hide-btn').text('[show]');\n",
        "    } else {\n",
        "      $('#toc-wrapper .hide-btn').text('[hide]');\n",
        "    }\n",
        "    return false;\n",
        "  })\n",
        "\n",
        "  $(window).resize(function(){\n",
        "    $('#toc').css({maxHeight: $(window).height() - 200})\n",
        "  })\n",
        "\n",
        "  $(window).trigger('resize')\n",
        "}\n",
        "\n",
        "table_of_contents();\n",
        "\n",
        "\n"
       ],
       "metadata": {},
       "output_type": "display_data"
      },
      {
       "output_type": "stream",
       "stream": "stdout",
       "text": [
        "The rmagic extension is already loaded. To reload it, use:\n",
        "  %reload_ext rmagic\n"
       ]
      }
     ],
     "prompt_number": 5
    },
    {
     "cell_type": "heading",
     "level": 1,
     "metadata": {},
     "source": [
      "Background of this assignment"
     ]
    },
    {
     "cell_type": "markdown",
     "metadata": {},
     "source": [
      "We parallelize previous methods  for computing statistics of large csv methods with goals of: \n",
      "\n",
      "* comparing different ways of parallelizing the code\n",
      "* examining the speeding up of the code from different ways of parallelism\n",
      "\n",
      "Discussion of the previous methods is available at: \n",
      "http://nbviewer.ipython.org/github/karenyng/HW1_Stat250_Winter14/blob/master/writeup/hw1.ipynb?create=1"
     ]
    },
    {
     "cell_type": "heading",
     "level": 2,
     "metadata": {},
     "source": [
      "Possible difficulties / overhead"
     ]
    },
    {
     "cell_type": "markdown",
     "metadata": {},
     "source": [
      "* handling data locality - avoid passing data around different workers \n",
      "* overhead of combining data "
     ]
    },
    {
     "cell_type": "heading",
     "level": 2,
     "metadata": {},
     "source": [
      "Notes for myself - Key concepts of parallelism "
     ]
    },
    {
     "cell_type": "markdown",
     "metadata": {},
     "source": [
      "> Data parallelism\n",
      "\n",
      "* handling multiple inputs concurrently\n",
      "\n",
      "> Task parallelism\n",
      "\n",
      "* if tasks are not dependent on each other, then they can be perform simultaneously with different workers"
     ]
    },
    {
     "cell_type": "heading",
     "level": 1,
     "metadata": {},
     "source": [
      "Methods to be used"
     ]
    },
    {
     "cell_type": "markdown",
     "metadata": {},
     "source": [
      "* Method 1 - I, similar to a lot of stuff in nature, follow the principle of least action <http://en.wikipedia.org/wiki/Principle_of_least_action> (a.k.a. being lazy)\n",
      "so I will try the easiest method first \n",
      "\n",
      "* Method 2 - I am going to try doing stuff in C with Duncan 's code so I can ask him awkward questions, even if that means this will not get done / debugged before the deadline."
     ]
    },
    {
     "cell_type": "heading",
     "level": 1,
     "metadata": {},
     "source": [
      "Method 1: Parallelization in python "
     ]
    },
    {
     "cell_type": "markdown",
     "metadata": {},
     "source": [
      "My code originally runs for 3.1 mins. But I am still parallelizing it because I want to learn how to do it in python - most of the code between me and my collaborators are in python (it's not a personal preference)."
     ]
    },
    {
     "cell_type": "heading",
     "level": 2,
     "metadata": {},
     "source": [
      "Profiling my python code to see where the bottleneck is: "
     ]
    },
    {
     "cell_type": "markdown",
     "metadata": {},
     "source": [
      "Educated guess: the reading in of files ..."
     ]
    },
    {
     "cell_type": "heading",
     "level": 2,
     "metadata": {},
     "source": [
      "Parallelize the bottleneck - what tools are available "
     ]
    },
    {
     "cell_type": "heading",
     "level": 2,
     "metadata": {},
     "source": [
      "Overall timings "
     ]
    },
    {
     "cell_type": "markdown",
     "metadata": {},
     "source": [
      "There should be a plot of overall timings "
     ]
    },
    {
     "cell_type": "heading",
     "level": 2,
     "metadata": {},
     "source": [
      "Profiling of how long each part of the computations took and intrepretation "
     ]
    },
    {
     "cell_type": "heading",
     "level": 2,
     "metadata": {},
     "source": [
      "Speed up using multiple cores "
     ]
    },
    {
     "cell_type": "heading",
     "level": 2,
     "metadata": {},
     "source": [
      "Verification of results "
     ]
    },
    {
     "cell_type": "heading",
     "level": 1,
     "metadata": {},
     "source": [
      "Estimating when the data is big enough that parallelization is worth the effort"
     ]
    },
    {
     "cell_type": "markdown",
     "metadata": {},
     "source": [
      "Time that I spend reorganizing the code and reading about how to do the parallelization + debugging $\\approx 4 hrs \\times 60 mins / hr = 240 ~mins$. Assume linear runtime for my code since I can guess most of the time is spent just reading the files in, then in order to save time in the long run, I will have to analyze data of the size:"
     ]
    },
    {
     "cell_type": "markdown",
     "metadata": {},
     "source": [
      "For 22 GB of csv files, the run time is 3.1 mins for my python code. Assuming I parallelize it perfectly for all 20 cores on a certain physics computer that I can access. \n",
      "\n",
      "Time that I can save is:"
     ]
    },
    {
     "cell_type": "code",
     "collapsed": false,
     "input": [
      "time_save_per_22GB_data = (3.1 - 3.1 / 20)\n",
      "print \"time saved per 22GB of data with perfect \" + \\\n",
      "\"parallelization on a 20-core machine =\" + \\\n",
      "\"{0:.2f} min\".format(time_save_per_22GB_data)"
     ],
     "language": "python",
     "metadata": {},
     "outputs": [
      {
       "output_type": "stream",
       "stream": "stdout",
       "text": [
        "time saved per 22GB of data with perfect parallelization on a 20-core machine =2.95 min\n"
       ]
      }
     ],
     "prompt_number": 18
    },
    {
     "cell_type": "code",
     "collapsed": false,
     "input": [
      "data_size_needed = 240 / time_save_per_22GB_data * 22\n",
      "print \"data size needed = \" + \\\n",
      "\"{0:.2f} TB\".format(data_size_needed / 1000)"
     ],
     "language": "python",
     "metadata": {},
     "outputs": [
      {
       "output_type": "stream",
       "stream": "stdout",
       "text": [
        "data size needed = 1.79 TB\n"
       ]
      }
     ],
     "prompt_number": 16
    },
    {
     "cell_type": "markdown",
     "metadata": {},
     "source": [
      "which is around the size of my brand new HDD. So would the python method still work with data this size if we were just to compute the mean and the medain? \n",
      "\n",
      "A column of the csv files takes up around "
     ]
    },
    {
     "cell_type": "code",
     "collapsed": false,
     "input": [
      "print \"the amount of memory needed to be read into RAM =\" + \\\n",
      "\"{0} GB\".format(0.514 / 22 * 1.79 * 1000)"
     ],
     "language": "python",
     "metadata": {},
     "outputs": [
      {
       "output_type": "stream",
       "stream": "stdout",
       "text": [
        "the amount of memory needed to be read into RAM =41.8209090909 GB\n"
       ]
      }
     ],
     "prompt_number": 1
    },
    {
     "cell_type": "markdown",
     "metadata": {},
     "source": [
      "Ok so if one were to stick to the python method for 1.7 TB of csv files they need a machine with at least around 50 GB  of ram.... since the OS also needs to use some RAM."
     ]
    },
    {
     "cell_type": "markdown",
     "metadata": {},
     "source": [
      "Quoting my favorite online comic xkcd: "
     ]
    },
    {
     "cell_type": "code",
     "collapsed": false,
     "input": [
      "from IPython.core.display import Image \n",
      "Image(url = \"http://imgs.xkcd.com/comics/\" + \\\n",
      "      \"is_it_worth_the_time.png\") "
     ],
     "language": "python",
     "metadata": {},
     "outputs": [
      {
       "html": [
        "<img src=\"http://imgs.xkcd.com/comics/is_it_worth_the_time.png\"/>"
       ],
       "metadata": {},
       "output_type": "pyout",
       "prompt_number": 5,
       "text": [
        "<IPython.core.display.Image at 0x2dc32d0>"
       ]
      }
     ],
     "prompt_number": 5
    }
   ],
   "metadata": {}
  }
 ]
}