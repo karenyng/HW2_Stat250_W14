{
 "metadata": {
  "name": ""
 },
 "nbformat": 3,
 "nbformat_minor": 0,
 "worksheets": [
  {
   "cells": [
    {
     "cell_type": "markdown",
     "metadata": {},
     "source": [
      "Stat 250 HW 2 with Prof. Duncan Temple Lang\n",
      "\n",
      "Author: (Karen) Yin-Yee Ng <karenyng@ucdavis.edu>\n",
      "\n",
      "Github repository: <https://github.com/karenyng>\n",
      "\n"
     ]
    },
    {
     "cell_type": "code",
     "collapsed": false,
     "input": [
      "%autosave 60\n",
      "\n",
      "# the following two lines allows the generating \n",
      "# a floating table of content \n",
      "# currently does not work with nbviewer online nor pdf \n",
      "# I may fix it someday during my infinite spare time \n",
      "%load_ext nbtoc\n",
      "%nbtoc\n",
      "\n",
      "from __future__ import division\n",
      "%load_ext line_profiler\n",
      "%load_ext memory_profiler"
     ],
     "language": "python",
     "metadata": {},
     "outputs": [
      {
       "javascript": [
        "IPython.notebook.set_autosave_interval(60000)"
       ],
       "metadata": {},
       "output_type": "display_data"
      },
      {
       "output_type": "stream",
       "stream": "stdout",
       "text": [
        "Autosaving every 60 seconds\n",
        "The nbtoc extension is already loaded. To reload it, use:\n",
        "  %reload_ext nbtoc\n"
       ]
      },
      {
       "html": [
        "<!-- extracted from https://gist.github.com/magican/5574556 -->\n",
        "<div id=\"toc-wrapper\">\n",
        "    <div class=\"header\">Contents <a href=\"#\" class=\"hide-btn\">[hide]</a></div>\n",
        "    <div id=\"toc\"></div>\n",
        "</div>\n",
        " \n",
        "<style>\n",
        "  #toc {\n",
        "    overflow-y: scroll;\n",
        "    max-height: 300px;\n",
        "  }\n",
        "  #toc-wrapper {\n",
        "    position: fixed; top: 120px; max-width:430px; right: 20px;\n",
        "    border: thin solid rgba(0, 0, 0, 0.38); opacity: .8;\n",
        "    border-radius: 5px; background-color: #fff; padding:10px;\n",
        "    z-index: 100;\n",
        "  }\n",
        "  #toc-wrapper.closed {\n",
        "      min-width: 100px;\n",
        "      width: auto;\n",
        "      transition: width;\n",
        "  }\n",
        "  #toc-wrapper:hover{\n",
        "      opacity:1;\n",
        "  }\n",
        "  #toc-wrapper .header {\n",
        "      font-size:18px; font-weight: bold;\n",
        "  }\n",
        "  #toc-wrapper .hide-btn {\n",
        "      font-size: 14px;\n",
        "  }\n",
        " \n",
        "</style>\n",
        "\n",
        "<style>\n",
        "  ol.nested {\n",
        "    counter-reset: item;\n",
        "    list-style: none;\n",
        "  }\n",
        "  li.nested {\n",
        "        display: block;\n",
        "    }\n",
        "  li.nested:before {\n",
        "        counter-increment: item;\n",
        "        content: counters(item, \".\")\" \";\n",
        "    }\n",
        "</style>\n"
       ],
       "metadata": {},
       "output_type": "display_data"
      },
      {
       "javascript": [
        "// adapted from https://gist.github.com/magican/5574556\n",
        "\n",
        "function clone_anchor(element) {\n",
        "  // clone link\n",
        "  var h = element.find(\"div.text_cell_render\").find(':header').first();\n",
        "  var a = h.find('a').clone();\n",
        "  var new_a = $(\"<a>\");\n",
        "  new_a.attr(\"href\", a.attr(\"href\"));\n",
        "  // get the text *excluding* the link text, whatever it may be\n",
        "  var hclone = h.clone();\n",
        "  hclone.children().remove();\n",
        "  new_a.text(hclone.text());\n",
        "  return new_a;\n",
        "}\n",
        "\n",
        "function ol_depth(element) {\n",
        "  // get depth of nested ol\n",
        "  var d = 0;\n",
        "  while (element.prop(\"tagName\").toLowerCase() == 'ol') {\n",
        "    d += 1;\n",
        "    element = element.parent();\n",
        "  }\n",
        "  return d;\n",
        "}\n",
        "\n",
        "function table_of_contents(threshold) {\n",
        "  if (threshold === undefined) {\n",
        "    threshold = 4;\n",
        "  }\n",
        "  var cells = IPython.notebook.get_cells();\n",
        "  \n",
        "  var ol = $(\"<ol/>\");\n",
        "  $(\"#toc\").empty().append(ol);\n",
        "  \n",
        "  for (var i=0; i < cells.length; i++) {\n",
        "    var cell = cells[i];\n",
        "    \n",
        "    if (cell.cell_type !== 'heading') continue;\n",
        "    \n",
        "    var level = cell.level;\n",
        "    if (level > threshold) continue;\n",
        "    \n",
        "    var depth = ol_depth(ol);\n",
        "\n",
        "    // walk down levels\n",
        "    for (; depth < level; depth++) {\n",
        "      var new_ol = $(\"<ol/>\");\n",
        "      ol.append(new_ol);\n",
        "      ol = new_ol;\n",
        "    }\n",
        "    // walk up levels\n",
        "    for (; depth > level; depth--) {\n",
        "      ol = ol.parent();\n",
        "    }\n",
        "    //\n",
        "    ol.append(\n",
        "      $(\"<li/>\").append(clone_anchor(cell.element))\n",
        "    );\n",
        "  }\n",
        "\n",
        "  $('#toc-wrapper .header').click(function(){\n",
        "    $('#toc').slideToggle();\n",
        "    $('#toc-wrapper').toggleClass('closed');\n",
        "    if ($('#toc-wrapper').hasClass('closed')){\n",
        "      $('#toc-wrapper .hide-btn').text('[show]');\n",
        "    } else {\n",
        "      $('#toc-wrapper .hide-btn').text('[hide]');\n",
        "    }\n",
        "    return false;\n",
        "  })\n",
        "\n",
        "  $(window).resize(function(){\n",
        "    $('#toc').css({maxHeight: $(window).height() - 200})\n",
        "  })\n",
        "\n",
        "  $(window).trigger('resize')\n",
        "}\n",
        "\n",
        "table_of_contents();\n",
        "\n",
        "\n"
       ],
       "metadata": {},
       "output_type": "display_data"
      },
      {
       "output_type": "stream",
       "stream": "stdout",
       "text": [
        "The line_profiler extension is already loaded. To reload it, use:\n",
        "  %reload_ext line_profiler\n",
        "The memory_profiler extension is already loaded. To reload it, use:\n",
        "  %reload_ext memory_profiler\n"
       ]
      }
     ],
     "prompt_number": 28
    },
    {
     "cell_type": "heading",
     "level": 1,
     "metadata": {},
     "source": [
      "Disclaimer:"
     ]
    },
    {
     "cell_type": "markdown",
     "metadata": {},
     "source": [
      ">Both of the methods that I implemented share the same problem: \n",
      ">The scheduling of the multiple concurrent process / threads >> # of cores.\n",
      "\n",
      ">A smarter way to do it is to use a *queue-like* implementation to schedule the processes / threads such that maximum # of process / threads run at a given time would match the number of cores. Then schedule the next batch of threads / processes matching the number of cores when the previous batch finishes running. Continue until all batches are done.\n",
      "\n",
      ">Join the results of the threads / processes when all threads / processes finish running.\n",
      "\n",
      ">This is the load balancing that parallel R / Open MPI probably has that my na\u00efve implementation does not."
     ]
    },
    {
     "cell_type": "heading",
     "level": 1,
     "metadata": {},
     "source": [
      "Background of this assignment"
     ]
    },
    {
     "cell_type": "markdown",
     "metadata": {},
     "source": [
      "We parallelize previous methods  for computing statistics of large csv methods with goals of: \n",
      "\n",
      "* comparing different ways of parallelizing the code\n",
      "* examining the speeding up of the code from different ways of parallelism\n",
      "\n",
      "Discussion of the previous methods is available at: \n",
      "\n",
      "<http://nbviewer.ipython.org/github/karenyng/HW1_Stat250_Winter14/blob/master/writeup/hw1.ipynb?create=1>"
     ]
    },
    {
     "cell_type": "heading",
     "level": 2,
     "metadata": {},
     "source": [
      "Possible difficulties / overhead"
     ]
    },
    {
     "cell_type": "markdown",
     "metadata": {},
     "source": [
      "* handling data locality - avoid passing data around different workers \n",
      "* overhead of combining data to compute the median"
     ]
    },
    {
     "cell_type": "heading",
     "level": 2,
     "metadata": {},
     "source": [
      "Notes for myself - Key concepts of parallelism "
     ]
    },
    {
     "cell_type": "markdown",
     "metadata": {},
     "source": [
      "> Data parallelism\n",
      "\n",
      "handling multiple inputs concurrently\n",
      "\n",
      "> Task parallelism\n",
      "\n",
      "if tasks are not dependent on each other, then they can be perform simultaneously with different workers\n",
      "\n",
      "> Data locality \n",
      "\n",
      "Be careful about how to fork the data.  Fine grained functions is hard to parallelize well since a lot of communication about the data will decrease the efficiency.\n",
      "Also have to be aware of how the language scope the functions / variables when sending them from master node to worker nodes\n",
      "\n",
      "> Race condition \n",
      "\n",
      "> Deadlock \n"
     ]
    },
    {
     "cell_type": "heading",
     "level": 2,
     "metadata": {},
     "source": [
      "My idea of how the most efficient algorithm in terms of both speed and memory usage should go: "
     ]
    },
    {
     "cell_type": "markdown",
     "metadata": {},
     "source": [
      "use a compiled language:\n",
      "\n",
      "* use threads to read in column data of each file concurrently line by line into shared memory (1st pass) while making a frequency table for the column data for each file\n",
      "* combine frequency tables (this has to done be sequentially)\n",
      "\n",
      "The following might not help but would be interesting to see how the runtime scales:\n",
      "\n",
      "* make two more copies of the combined frequency table assuming the table is small enough that copying is fast\n",
      "* compute mean, median and standard deviation from the 3 copies of the frequency tables with three threads"
     ]
    },
    {
     "cell_type": "heading",
     "level": 3,
     "metadata": {},
     "source": [
      "Performance metric of parallelizing code:"
     ]
    },
    {
     "cell_type": "markdown",
     "metadata": {},
     "source": [
      "(From Scaling Up Machine Learning - Bekkerman R.) \n",
      "\n",
      "* speedup - ratio of solution time for sequential algorithms vs. its parallel counterpart\n",
      "\n",
      "* efficiency - measures the ratio of speed up to the # of processors\n",
      "\n",
      "* scalability - tracks efficiency as a function of an increasing number of processors  <- how are the lower two different!?!?!?!?!"
     ]
    },
    {
     "cell_type": "heading",
     "level": 1,
     "metadata": {},
     "source": [
      "Method 1: Parallelization in python "
     ]
    },
    {
     "cell_type": "markdown",
     "metadata": {},
     "source": [
      "My code originally runs for ~3 mins. I am parallelizing it because I want to learn how to parallelize python code properly, most of the codes between me and my collaborators are in python (it's a community preference not a personal one). \n",
      "\n",
      "\n",
      "I mainly make use of the book \"Python high performance programming\" as my reference for this method."
     ]
    },
    {
     "cell_type": "heading",
     "level": 2,
     "metadata": {},
     "source": [
      "Profiling my python code to see where the speed / memory bottleneck is"
     ]
    },
    {
     "cell_type": "markdown",
     "metadata": {},
     "source": [
      "Following a really nice tutorial at: \n",
      "\n",
      "<http://pynash.org/2013/03/06/timing-and-profiling.html>"
     ]
    },
    {
     "cell_type": "markdown",
     "metadata": {},
     "source": [
      "import a version of the code that is wrapped as a function"
     ]
    },
    {
     "cell_type": "markdown",
     "metadata": {},
     "source": [
      "run line profiler on it and dump the output to lpstat.txt"
     ]
    },
    {
     "cell_type": "markdown",
     "metadata": {},
     "source": [
      "    from profile_stat import run\n",
      "    %prun -T lpstat.txt run()"
     ]
    },
    {
     "cell_type": "markdown",
     "metadata": {},
     "source": [
      "Educated guess: the reading in of files would take the most amount of time ... "
     ]
    },
    {
     "cell_type": "code",
     "collapsed": false,
     "input": [
      "!head -10 lpstat.txt"
     ],
     "language": "python",
     "metadata": {},
     "outputs": [
      {
       "output_type": "stream",
       "stream": "stdout",
       "text": [
        "         50247 function calls (50245 primitive calls) in 190.815 seconds\r\n",
        "\r\n",
        "   Ordered by: internal time\r\n",
        "\r\n",
        "   ncalls  tottime  percall  cumtime  percall filename:lineno(function)\r\n",
        "       81  167.560    2.069  167.560    2.069 {method 'read' of 'pandas._parser.TextReader' objects}\r\n",
        "      163   10.553    0.065   10.553    0.065 {numpy.core.multiarray.concatenate}\r\n",
        "        1    2.619    2.619    2.619    2.619 {pandas.algos.median}\r\n",
        "        1    1.483    1.483  190.694  190.694 profile_stat.py:8(run)\r\n",
        "        4    1.387    0.347    1.387    0.347 common.py:128(_isnull_ndarraylike)\r\n"
       ]
      }
     ],
     "prompt_number": 29
    },
    {
     "cell_type": "markdown",
     "metadata": {},
     "source": [
      "If we read the \"cumtime\" column  we can find that most of the time is actually spent on reading the data the csv files. \n",
      "There is also half a minute spent on merging, appending and concatanating files - which is ~15% of the runtime... we may be able to  assign different cores to join different data frames together.\n",
      "The reading of files is actually quite embarrassingly parallel but is also limited by the memory. \n",
      "Column data from each file is only around:"
     ]
    },
    {
     "cell_type": "code",
     "collapsed": false,
     "input": [
      "print '{0:.0f} MB'.format(2.2 / 81. * 1000)"
     ],
     "language": "python",
     "metadata": {},
     "outputs": [
      {
       "output_type": "stream",
       "stream": "stdout",
       "text": [
        "27 MB\n"
       ]
      }
     ],
     "prompt_number": 30
    },
    {
     "cell_type": "markdown",
     "metadata": {},
     "source": [
      "Even if we read 4 at the same time it should only be ~0.1 GB for my quad core desktop with 16 GB of RAM... unless my code is doing something really stupid.\n",
      "\n",
      "Let's do memory profiling to see if that's true!\n"
     ]
    },
    {
     "cell_type": "markdown",
     "metadata": {},
     "source": [
      "    %mprun -T mpstat.txt -f run run() "
     ]
    },
    {
     "cell_type": "code",
     "collapsed": false,
     "input": [
      "!cat mpstat.txt"
     ],
     "language": "python",
     "metadata": {},
     "outputs": [
      {
       "output_type": "stream",
       "stream": "stdout",
       "text": [
        "Filename: profile_stat.py\r\n",
        "\r\n",
        "Line #    Mem usage    Increment   Line Contents\r\n",
        "================================================\r\n",
        "     8    132.0 MiB      0.0 MiB   def run:\r\n",
        "     9    132.0 MiB      0.0 MiB       import pandas as pd\r\n",
        "    10    132.0 MiB      0.0 MiB       import numpy as np\r\n",
        "    11    132.0 MiB      0.0 MiB       data_path = \"../data/\"\r\n",
        "    12                             \r\n",
        "    13                                 # First read in the data from 1987 to 2007\r\n",
        "    14    132.0 MiB      0.0 MiB       year = [data_path + str(i) + \".csv\" for i in range(1987, 2008)]\r\n",
        "    15                                 # create empty dataframe\r\n",
        "    16    132.0 MiB      0.0 MiB       delay1 = pd.DataFrame()\r\n",
        "    17                                 # loop through the year-by-year csvs\r\n",
        "    18   1993.0 MiB   1861.0 MiB       for yr_file in year:\r\n",
        "    19                                     # read in relevant column from csv file using pandas\r\n",
        "    20   1879.3 MiB   -113.7 MiB           temp = pd.read_csv(yr_file, usecols=[\"ArrDelay\"])\r\n",
        "    21                                     # append the dataframes - this is done by reference not by value\r\n",
        "    22   1993.0 MiB    113.7 MiB           delay1 = delay1.append(temp)\r\n",
        "    23   1993.0 MiB      0.0 MiB           print 'appending ' + yr_file + ' - total lines = ' + \\\r\n",
        "    24   1993.0 MiB      0.0 MiB               '{0}'.format(delay1.shape[0])\r\n",
        "    25                             \r\n",
        "    26                                 # create another empty dataframe for handling month by month csv\r\n",
        "    27   1993.0 MiB      0.0 MiB       delay2 = pd.DataFrame()\r\n",
        "    28   1993.0 MiB      0.0 MiB       month = ['January', 'February', 'March', 'April', 'May', 'June', 'July',\r\n",
        "    29   1993.0 MiB      0.0 MiB               'August', 'September', 'October', 'November', 'December']\r\n",
        "    30   1993.0 MiB      0.0 MiB       year = [data_path + str(i) + \"_\" +\r\n",
        "    31   1993.0 MiB      0.0 MiB               mth + \".csv\" for i in range(2008, 2013) for mth in month]\r\n",
        "    32                                 # loop through all the month-by-month csv\r\n",
        "    33   2399.7 MiB    406.7 MiB       for yr_file in year:\r\n",
        "    34                                     # tell pandas to read only the relevant column in the csv\r\n",
        "    35   2392.2 MiB     -7.5 MiB           temp = pd.read_csv(yr_file, usecols=[\"ARR_DELAY\"])\r\n",
        "    36                                     # append them to the dataframe by reference\r\n",
        "    37   2399.7 MiB      7.5 MiB           delay2 = delay2.append(temp)\r\n",
        "    38   2399.7 MiB      0.0 MiB           print 'appending ' + yr_file + ' - total lines = ' + \\\r\n",
        "    39   2399.7 MiB      0.0 MiB               '{0}'.format(delay2.shape[0] + delay1.shape[0])\r\n",
        "    40                             \r\n",
        "    41                                 # hackish way to remove the column name of the dataframe to append\r\n",
        "    42                                 # the two types of csv columns together\r\n",
        "    43                                 # so I can compute the statistics in one pass later on\r\n",
        "    44   1510.7 MiB   -889.0 MiB       delay1 = np.array(delay1)\r\n",
        "    45   1265.8 MiB   -244.8 MiB       delay2 = np.array(delay2)\r\n",
        "    46   2399.7 MiB   1133.9 MiB       delay = np.append(delay1, delay2)\r\n",
        "    47   3533.6 MiB   1133.9 MiB       delay = pd.DataFrame(delay)\r\n",
        "    48   3533.6 MiB      0.0 MiB       print 'total number of valid lines = {0}'.format(delay.dropna().shape[0])\r\n",
        "    49                             \r\n",
        "    50                                 # note that pandas ignores nans automatically while computing stats\r\n",
        "    51   3533.6 MiB      0.0 MiB       print 'saving to results2.txt'\r\n",
        "    52   3533.6 MiB      0.0 MiB       f = open('results2.txt', 'w')\r\n",
        "    53   3533.6 MiB      0.0 MiB       f.write('mean = {0}\\n'.format(delay[0].mean()))\r\n",
        "    54   3533.6 MiB      0.0 MiB       f.write('median = {0}\\n'.format(delay[0].median()))\r\n",
        "    55   3533.6 MiB      0.0 MiB       f.write('std = {0}\\n'.format(delay[0].std()))\r\n",
        "    56   3533.6 MiB     -0.0 MiB       f.close()"
       ]
      }
     ],
     "prompt_number": 31
    },
    {
     "cell_type": "markdown",
     "metadata": {},
     "source": [
      "So the python memory profiler was reporting back that only ~3.5 GB of memory was used.\n",
      "Not sure if that is really true since the C backend of pandas might be by-passing the python intrepretter for memory usage. So I used valgrind to measure both the stack and heap usage. The memory use is consistent with what the python profiler found. \n",
      "The valgrind profiling results are stored in ${GIT REPOSITORY}/analysis/profile_m1_mem.txt. My code is NOT memory bound but something weird is going on that does not allow the parallelized version of the code to get faster with increased number of cores."
     ]
    },
    {
     "cell_type": "heading",
     "level": 2,
     "metadata": {},
     "source": [
      "Parallelize the bottleneck - different approaches within python"
     ]
    },
    {
     "cell_type": "heading",
     "level": 3,
     "metadata": {},
     "source": [
      "multi-threading (processing) in python?"
     ]
    },
    {
     "cell_type": "markdown",
     "metadata": {},
     "source": [
      "Python has a global interpretted lock (GIL) which prevents more than one thread from being run at a time under usual circumstances (it's implemented like a mutex). \n",
      "Python users are advised to use multiple processes via the multiprocessing module \n",
      "\n",
      "<http://docs.python.org/dev/library/multiprocessing.html>\n",
      "\n",
      "that is part of the standard python library instead.\n",
      "The difference between the two is that memory aren't shared naturally between multiple processes in the case of multiple threads. \n",
      "Not sure if that is going to impact us here. \n",
      "\n",
      "I tried using the default multiprocessing module but it does not like functions with optional arguments.\n",
      "Writing a wrapper function to parse the optional arguments also did not work properly. "
     ]
    },
    {
     "cell_type": "heading",
     "level": 3,
     "metadata": {},
     "source": [
      "parallel python packages "
     ]
    },
    {
     "cell_type": "markdown",
     "metadata": {},
     "source": [
      "There are quite a number of powerful packages that can handle either parallelization on multiple core machine or over a distributed network of machines. \n",
      "\n",
      "<https://wiki.python.org/moin/ParallelProcessing>\n",
      "\n",
      "In this assignment, I use the \"parallel python\" package (pp). The package seems quite comprehensive, it supports multicore processing, distributed computing over a cluster etc.\n",
      "But after some use, I do not actually like this package, it has the worst (close to non-existent) python package documentation I have seen. \n"
     ]
    },
    {
     "cell_type": "heading",
     "level": 2,
     "metadata": {},
     "source": [
      "Overall timings "
     ]
    },
    {
     "cell_type": "code",
     "collapsed": false,
     "input": [
      "from parse_time import parse_time as parse_t\n",
      "\n",
      "df = parse_t()\n",
      "non_parallel_t = 4. * 60. + 46.597\n",
      "\n",
      "fig = plt.figure(figsize = (8,6))\n",
      "ax = fig.add_subplot(111)\n",
      "ax.plot(range(1, 25), df[\"real\"], \".-\", label=\"real\")\n",
      "ax.plot(range(1, 25), df[\"user\"], \".-\", label=\"user\")\n",
      "ax.plot(range(1, 25), df[\"sys\"], \".-\", label=\"sys\")\n",
      "ax.axhline(non_parallel_t, label = \"non-parallel version real\", \n",
      "           color = \"k\", linewidth = 1.5)\n",
      "ax.set_xlabel(\"No. of cores used\", size = 15)\n",
      "ax.set_ylabel(\"time (s)\", size = 15)\n",
      "ax.legend(loc='best')\n",
      "ax.set_title('Timing on a 24 core Mac Pro',size=15)\n",
      "ax.set_ylim((0,400))"
     ],
     "language": "python",
     "metadata": {},
     "outputs": [
      {
       "metadata": {},
       "output_type": "pyout",
       "prompt_number": 32,
       "text": [
        "(0, 400)"
       ]
      },
      {
       "metadata": {},
       "output_type": "display_data",
       "png": "[encoded data removed]",
       "text": [
        "<matplotlib.figure.Figure at 0x672bad0>"
       ]
      }
     ],
     "prompt_number": 32
    },
    {
     "cell_type": "markdown",
     "metadata": {},
     "source": [
      "This plot tells us that my code does not scale well. The parallelized version has overhead of starting job and the speed up is marginal.\n",
      "Even though most of my research python codes (scipy, numpy, astropy ) use fast C code as backend but the thought of my code not being able to scale is a pain."
     ]
    },
    {
     "cell_type": "heading",
     "level": 2,
     "metadata": {},
     "source": [
      "Speed up "
     ]
    },
    {
     "cell_type": "heading",
     "level": 3,
     "metadata": {},
     "source": [
      "Speed up based on amount of data processed "
     ]
    },
    {
     "cell_type": "markdown",
     "metadata": {},
     "source": [
      "too lazy to do but would be interesting to find out "
     ]
    },
    {
     "cell_type": "heading",
     "level": 3,
     "metadata": {},
     "source": [
      "Speed up using multiple cores"
     ]
    },
    {
     "cell_type": "code",
     "collapsed": false,
     "input": [
      "fig = plt.figure(figsize = (8,6))\n",
      "ax = fig.add_subplot(111)\n",
      "ax.plot(range(1, 25), non_parallel_t / df[\"real\"], \".-\")\n",
      "ax.set_xlabel(\"No. of cores used\", size = 15)\n",
      "ax.set_ylabel(\"Wallclock time speed up \", size = 15)\n",
      "ax.set_title('Speed up compared to non-parallelized version ', size=15)"
     ],
     "language": "python",
     "metadata": {},
     "outputs": [
      {
       "metadata": {},
       "output_type": "pyout",
       "prompt_number": 33,
       "text": [
        "<matplotlib.text.Text at 0x69f1850>"
       ]
      },
      {
       "metadata": {},
       "output_type": "display_data",
       "png": "[encoded data removed]",
       "text": [
        "<matplotlib.figure.Figure at 0x607c4d0>"
       ]
      }
     ],
     "prompt_number": 33
    },
    {
     "cell_type": "markdown",
     "metadata": {},
     "source": [
      "It just would not scale for more than 3 cores !!! "
     ]
    },
    {
     "cell_type": "heading",
     "level": 2,
     "metadata": {},
     "source": [
      "Profiling of how long each part of the computations took and intrepretation "
     ]
    },
    {
     "cell_type": "heading",
     "level": 3,
     "metadata": {},
     "source": [
      "Timing and memory profile of parallelized code using the parallel python package on a 24-core machine"
     ]
    },
    {
     "cell_type": "markdown",
     "metadata": {},
     "source": [
      "Ok let's parse back the output of the \"time\" command from the shell. "
     ]
    },
    {
     "cell_type": "markdown",
     "metadata": {},
     "source": [
      "    from profile_method1 import run\n",
      "    %prun -T lpstat_parallelized_m1.txt run()"
     ]
    },
    {
     "cell_type": "markdown",
     "metadata": {},
     "source": [
      "If I am not lazy I would convert the following text file into a plot"
     ]
    },
    {
     "cell_type": "code",
     "collapsed": false,
     "input": [
      "!head -10 lpstat_parallelized_m1.txt"
     ],
     "language": "python",
     "metadata": {},
     "outputs": [
      {
       "output_type": "stream",
       "stream": "stdout",
       "text": [
        "         24731 function calls (24730 primitive calls) in 244.903 seconds\r\n",
        "\r\n",
        "   Ordered by: internal time\r\n",
        "\r\n",
        "   ncalls  tottime  percall  cumtime  percall filename:lineno(function)\r\n",
        "      450  223.675    0.497  223.675    0.497 {method 'acquire' of 'thread.lock' objects}\r\n",
        "      164   11.006    0.067   11.006    0.067 {numpy.core.multiarray.concatenate}\r\n",
        "        1    2.620    2.620    2.620    2.620 {pandas.algos.median}\r\n",
        "        1    1.201    1.201  244.566  244.566 profile_method1.py:1(run)\r\n",
        "       81    1.163    0.014    1.519    0.019 {cPickle.loads}\r\n"
       ]
      }
     ],
     "prompt_number": 34
    },
    {
     "cell_type": "markdown",
     "metadata": {},
     "source": [
      "The rest of the file does not have any more process that takes up a big chunk of computing time.\n",
      "So the Python Global Interpreter Lock (GIL) is really messing things up here."
     ]
    },
    {
     "cell_type": "heading",
     "level": 3,
     "metadata": {},
     "source": [
      "Profiling of a version that uses threads in python (...... can't believe I actually tried this after knowing about the GIL)"
     ]
    },
    {
     "cell_type": "markdown",
     "metadata": {},
     "source": [
      "    from profile_method1a import run\n",
      "    %prun -T lpstat_parallelized_m1a.txt run()"
     ]
    },
    {
     "cell_type": "markdown",
     "metadata": {},
     "source": [
      "If I am not lazy I would convert the following text file into a plot"
     ]
    },
    {
     "cell_type": "code",
     "collapsed": false,
     "input": [
      "!head -10 lpstat_parallelized_m1a.txt"
     ],
     "language": "python",
     "metadata": {},
     "outputs": [
      {
       "output_type": "stream",
       "stream": "stdout",
       "text": [
        "         4673 function calls in 249.731 seconds\r\n",
        "\r\n",
        "   Ordered by: internal time\r\n",
        "\r\n",
        "   ncalls  tottime  percall  cumtime  percall filename:lineno(function)\r\n",
        "      494  161.209    0.326  161.209    0.326 {method 'acquire' of 'thread.lock' objects}\r\n",
        "       81   44.126    0.545  155.997    1.926 threading.py:726(start)\r\n",
        "       81   22.865    0.282   22.865    0.282 {numpy.core.multiarray.concatenate}\r\n",
        "        1    5.846    5.846  249.630  249.630 profile_method1a.py:22(run)\r\n",
        "        1    5.201    5.201    5.201    5.201 {method 'sort' of 'numpy.ndarray' objects}\r\n"
       ]
      }
     ],
     "prompt_number": 35
    },
    {
     "cell_type": "markdown",
     "metadata": {},
     "source": [
      "It gets even slower.....\n",
      "The overhead for starting the threads and thread locks are totally slowing things down !!!\n",
      "I am not quite sure if the thread locks are actually due to: \n",
      "\n",
      "1. GIL, \n",
      "2. stupid handling of race conditions from the parallel package which I do not have any control over\n",
      "3. the memory bus / hard disk being a speed bottle neck\n",
      "\n",
      "Number 1 and 2 seem more likely than 3 but 3 can be a good guess.\n",
      "I actually found an interesting article online at:\n",
      "\n",
      "<http://www.drdobbs.com/parallel/multithreaded-file-io/220300055?pgno=2>\n",
      "\n",
      "about how normal desktop file systems have limitations for using threads for I/O. The results from the article does not explain why my code does not scale but it is nonetheless interesting to know that there are other file systems designed for multi-threaded I/O from disk:"
     ]
    },
    {
     "cell_type": "code",
     "collapsed": false,
     "input": [
      "from IPython.display import Image \n",
      "i = Image(url=\"http://twimgs.com/ddj/images/\" + \\\n",
      "          \"article/2009/0909/090928wuth5_fg2a.gif\")\n",
      "i"
     ],
     "language": "python",
     "metadata": {},
     "outputs": [
      {
       "html": [
        "<img src=\"http://twimgs.com/ddj/images/article/2009/0909/090928wuth5_fg2a.gif\"/>"
       ],
       "metadata": {},
       "output_type": "pyout",
       "prompt_number": 36,
       "text": [
        "<IPython.core.display.Image at 0x4984150>"
       ]
      }
     ],
     "prompt_number": 36
    },
    {
     "cell_type": "markdown",
     "metadata": {},
     "source": [
      "where from web definition \n",
      "\n"
     ]
    },
    {
     "cell_type": "markdown",
     "metadata": {},
     "source": [
      ">    SCSI is especially designed as a parallel interface for I/O from hard disk \n",
      "\n",
      "\n",
      ">RAID-5 \n",
      ">The standard RAID levels are a basic set of RAID configurations that employ the techniques of striping, mirroring, or parity to create large reliable data stores from general purpose computer hard disk drives. The most common types today are RAID 0, RAID 1 and variants, RAID 5 and RAID 6. ..."
     ]
    },
    {
     "cell_type": "markdown",
     "metadata": {},
     "source": [
      "Performance actually drops after more than 8 threads are used for a normal hard disk.\n",
      "\n",
      "Of course if I/O is a huge issue there is also distributed file system like Hadoop which has better fault tolerance."
     ]
    },
    {
     "cell_type": "heading",
     "level": 2,
     "metadata": {},
     "source": [
      "Verification of results "
     ]
    },
    {
     "cell_type": "markdown",
     "metadata": {},
     "source": [
      "I ran the code and asked it to automatically adjust the # of cores and output the mean, median and std. dev. to different files called pp_{NUMBER_OF_CORES}.txt.\n",
      "Ran a shell loop of \"diff\" on those files and they agree:"
     ]
    },
    {
     "cell_type": "code",
     "collapsed": false,
     "input": [
      "!../tests/for_diff.sh"
     ],
     "language": "python",
     "metadata": {},
     "outputs": [],
     "prompt_number": 37
    },
    {
     "cell_type": "markdown",
     "metadata": {},
     "source": [
      "The lack of output indicates they are the same."
     ]
    },
    {
     "cell_type": "code",
     "collapsed": false,
     "input": [
      "!cat ../tests/for_diff.sh"
     ],
     "language": "python",
     "metadata": {},
     "outputs": [
      {
       "output_type": "stream",
       "stream": "stdout",
       "text": [
        "#!/bin/bash\r\n",
        "\r\n",
        "for N in $(seq 24)\r\n",
        "do\r\n",
        "    \tdiff \"../writeup/runtime/pp_1.txt\" \"../writeup/runtime/pp_\"${N}\".txt\"\r\n",
        "done\r\n",
        "\r\n"
       ]
      }
     ],
     "prompt_number": 38
    },
    {
     "cell_type": "heading",
     "level": 2,
     "metadata": {},
     "source": [
      "Not all hope is lost for python:"
     ]
    },
    {
     "cell_type": "heading",
     "level": 3,
     "metadata": {},
     "source": [
      "bypassing python GIL method 1. "
     ]
    },
    {
     "cell_type": "markdown",
     "metadata": {},
     "source": [
      "wrap Duncan 's C code with Cython to do the I/O part. Thanks Duncan."
     ]
    },
    {
     "cell_type": "heading",
     "level": 3,
     "metadata": {},
     "source": [
      "bypassing python GIL method 2. - use other existing python libraries with C backend"
     ]
    },
    {
     "cell_type": "markdown",
     "metadata": {},
     "source": [
      "I came across \n",
      "\n",
      "<http://www.pytables.org/docs/LargeDataAnalysis.pdf> and <http://blosc.pytables.org/trac> \n",
      "\n",
      "that talks about data compression technologies and related packages (PyTables, HDF5, BloSC) for dealing with memory bound / memory gap problems in python. Those libraries use C as a backend and avoid the GIL problem for I/O. \n",
      "\n",
      "Potential drawback: \n",
      "\n",
      "* overhead for using PyTables / HDF5 / BLOSC, we have to first compress ASCII files into HDF5 (binary) format\n"
     ]
    },
    {
     "cell_type": "heading",
     "level": 1,
     "metadata": {},
     "source": [
      "Method 2 - AirlineDelay package"
     ]
    },
    {
     "cell_type": "markdown",
     "metadata": {},
     "source": [
      "I could use of Duncan 's AirlineDelay package since he did most of the hardwork of putting it together. Remaining steps include:"
     ]
    },
    {
     "cell_type": "markdown",
     "metadata": {},
     "source": [
      "\n",
      "* unit test the code \n",
      "* run valgrind to make sure there is no memory leak!\n",
      "* add code for handling the month-by-month csv files \n",
      "* run the sequential version first to make sure everything work???\n",
      "* run the threaded version - test if it returns the values correctly\n",
      "* do global test...\n",
      "* implement a time-profiler for profiling each part of the code\n",
      "* test runtime for different number of files (threads) / cores used \n"
     ]
    },
    {
     "cell_type": "heading",
     "level": 2,
     "metadata": {},
     "source": [
      "Summary of fixes that I implemented in the AirlineDelay package: "
     ]
    },
    {
     "cell_type": "markdown",
     "metadata": {},
     "source": [
      "1. wrote function to catch problematic inputs, this includes error handling for : \n",
      "    * problematic input file paths \n",
      "    * number of files < number of threads \n",
      "2. catch all NaN values that matches \"NA\" or empty string \"\" \n",
      "3. change return type of readRecord function in order to detect NAN correctly, it seems impossible to return NAN from a C routine without it being converted to be 0 \n",
      "    * I implemented a version that does not require calling NAN values since \n",
      "    NAN might not be defined for all C compilers\n",
      "4. fix the off-by-1-count bug from the merge table function \n",
      "    * the code initially would join the first table to itself in the for loop\n",
      "    * have to change i=0 to i=1 to for starting the for loop to prevent the first table being joined to itself \n",
      "\n",
      "5. documentations about the functions, learned how to run roxygen2 to generate *.Rd files \n",
      "    * it bugs me that there is no proper documentation for the R code since I am so used to documenting all inputs and outputs for functions of intrepretted languages which are not type safe\n",
      "6. global test code in ${GIT_REPOSITORY}/AirlineDelays/tests/"
     ]
    },
    {
     "cell_type": "heading",
     "level": 2,
     "metadata": {},
     "source": [
      "Overall timing for quad core machine 1 : "
     ]
    },
    {
     "cell_type": "markdown",
     "metadata": {},
     "source": [
      "4 threads (files) per core on average: real time 3.443 s (this is very fast actually)\n",
      "\n",
      "8 threads (files) per core on average: real time 49 s (hyperthreading is slower)"
     ]
    },
    {
     "cell_type": "markdown",
     "metadata": {},
     "source": [
      "These timings look good but if the overall timing suck if I na\u00efvely just start 81 threads for all 81 files on quad core machine. I cannot be more amused when the runtime went from the sequential version of 3 min to my python parallel version of 3+ min to the multithreaded version of 13 mins. This is the runtime when run on quad core machine: "
     ]
    },
    {
     "cell_type": "markdown",
     "metadata": {},
     "source": [
      "> real\t13m18.151s\n",
      "\n",
      "> user\t0m52.840s\n",
      "\n",
      "> sys\t0m4.772s"
     ]
    },
    {
     "cell_type": "markdown",
     "metadata": {},
     "source": [
      "This is not that surprising given the figure of read speed vs # of thread figure that I posted above. \n"
     ]
    },
    {
     "cell_type": "heading",
     "level": 3,
     "metadata": {},
     "source": [
      "Overall timing on 24-core machine :"
     ]
    },
    {
     "cell_type": "code",
     "collapsed": false,
     "input": [
      "from __future__ import division\n",
      "files = np.array([4, 32, 48, 81] )\n",
      "real = np.array([1.961, 21.815, 18, 41.996]) # in seconds \n",
      "compare = np.arange(1,81)\n",
      "time_per_file = real / files\n",
      "\n",
      "fig = plt.figure(figsize = (8,6))\n",
      "ax = fig.add_subplot(111)\n",
      "ax.plot(files, real, '.-', label = 'runtime for particular # of files')\n",
      "ax.plot(compare, compare, '--', label = 'line with slope 1')\n",
      "ax.legend(loc = 'best')\n",
      "ax.set_xlabel(\"# of threads (files) used\", size = 15)\n",
      "ax.set_ylabel(\"real (s)\", size = 15)\n",
      "ax.set_title(\"Real runtime on 24-core Mac Pro\", size = 17)"
     ],
     "language": "python",
     "metadata": {},
     "outputs": [
      {
       "metadata": {},
       "output_type": "pyout",
       "prompt_number": 39,
       "text": [
        "<matplotlib.text.Text at 0x6757bd0>"
       ]
      },
      {
       "metadata": {},
       "output_type": "display_data",
       "png": "[encoded data removed]",
       "text": [
        "<matplotlib.figure.Figure at 0x672c810>"
       ]
      }
     ],
     "prompt_number": 39
    },
    {
     "cell_type": "markdown",
     "metadata": {},
     "source": [
      "If I am not lazy I would use # of lines on the x-axis instead to make it a fairer comparison."
     ]
    },
    {
     "cell_type": "code",
     "collapsed": false,
     "input": [
      "fig = plt.figure(figsize = (8,6))\n",
      "ax = fig.add_subplot(111)\n",
      "ax.plot(files, time_per_file, '.-')\n",
      "ax.set_xlabel(\"# of threads (files) used\", size = 15)\n",
      "ax.set_ylabel(\"time per file (s)\", size = 15)\n",
      "ax.set_title(\"Runtime per file on 24-core Mac Pro\", size = 17)"
     ],
     "language": "python",
     "metadata": {},
     "outputs": [
      {
       "metadata": {},
       "output_type": "pyout",
       "prompt_number": 40,
       "text": [
        "<matplotlib.text.Text at 0x6f81d10>"
       ]
      },
      {
       "metadata": {},
       "output_type": "display_data",
       "png": "[encoded data removed]",
       "text": [
        "<matplotlib.figure.Figure at 0x4984550>"
       ]
      }
     ],
     "prompt_number": 40
    },
    {
     "cell_type": "markdown",
     "metadata": {},
     "source": [
      "Good that it the runtime per file is approximately constant."
     ]
    },
    {
     "cell_type": "heading",
     "level": 3,
     "metadata": {},
     "source": [
      "Speed up from sequential python code: 6.8x "
     ]
    },
    {
     "cell_type": "code",
     "collapsed": false,
     "input": [
      "(4. * 60. + 46.597 )/  41.996"
     ],
     "language": "python",
     "metadata": {},
     "outputs": [
      {
       "metadata": {},
       "output_type": "pyout",
       "prompt_number": 41,
       "text": [
        "6.8243880369559"
       ]
      }
     ],
     "prompt_number": 41
    },
    {
     "cell_type": "markdown",
     "metadata": {},
     "source": [
      "which is really a marginal speed up per additional core ..."
     ]
    },
    {
     "cell_type": "heading",
     "level": 2,
     "metadata": {},
     "source": [
      "Pending modification to C code for realizing the promise of huge speed up with multithreads:"
     ]
    },
    {
     "cell_type": "markdown",
     "metadata": {},
     "source": [
      "* have numThreads = numFiles \n",
      "* start # of threads  = # of core at one time \n",
      "* wait for the those threads to finish\n",
      "* start more threads that matches the # of core, then wait etc. until all of numThreads are finished \n",
      "* need to modify the C code to do this\n",
      "    * can use a queue to store the file names to start the threads \n"
     ]
    },
    {
     "cell_type": "heading",
     "level": 2,
     "metadata": {},
     "source": [
      "Verification of results "
     ]
    },
    {
     "cell_type": "markdown",
     "metadata": {},
     "source": [
      "> \"mean =  6.56650421703496\"\n",
      "\n",
      "> \"median =  0\"\n",
      "\n",
      ">\"std dev.  =  31.5563262622735\""
     ]
    },
    {
     "cell_type": "markdown",
     "metadata": {},
     "source": [
      "This method agrees up to all the printable digits from previous methods for all 81 files "
     ]
    },
    {
     "cell_type": "markdown",
     "metadata": {},
     "source": [
      "This also passes the global tests that I wrote for comparing thet statistics for individual files. "
     ]
    },
    {
     "cell_type": "heading",
     "level": 2,
     "metadata": {},
     "source": [
      "Memory usage: "
     ]
    },
    {
     "cell_type": "markdown",
     "metadata": {},
     "source": [
      "I am alarmed that some 7.440 MB of swap memory was used!\n",
      "Really not sure why because at a given time only a small % of memory is shown up to be used from the output of the \"top\" command.\n",
      "\n",
      "And of course if I am not lazy about doing profiling, this can be explained......"
     ]
    },
    {
     "cell_type": "heading",
     "level": 1,
     "metadata": {},
     "source": [
      "Logistics"
     ]
    },
    {
     "cell_type": "heading",
     "level": 2,
     "metadata": {},
     "source": [
      "Dependencies: "
     ]
    },
    {
     "cell_type": "markdown",
     "metadata": {},
     "source": [
      "* put csv files in \\${GIT_REPOSITORY}/data/"
     ]
    },
    {
     "cell_type": "heading",
     "level": 2,
     "metadata": {},
     "source": [
      "How to run the code"
     ]
    },
    {
     "cell_type": "heading",
     "level": 3,
     "metadata": {},
     "source": [
      "Method 1"
     ]
    },
    {
     "cell_type": "markdown",
     "metadata": {},
     "source": [
      "For running the python code specifying a certain number of cores, at a terminal run:\n",
      "\n",
      "    >./method1.py ${NUMBER_OF_CORES_TO_USE}\n",
      "For running the python code for a range of cores, modify method1_wrapper.py then run:\n",
      "\n",
      "    >./method1_wrapper.py"
     ]
    },
    {
     "cell_type": "heading",
     "level": 3,
     "metadata": {},
     "source": [
      "Method 2 "
     ]
    },
    {
     "cell_type": "markdown",
     "metadata": {},
     "source": [
      "call script from within the git repository\n",
      "\n",
      "    Rscript \\${GIT_REPOSITORY}/method2.R \\\\${NUM_OF_FILES}"
     ]
    },
    {
     "cell_type": "heading",
     "level": 2,
     "metadata": {},
     "source": [
      "Machine Specifications"
     ]
    },
    {
     "cell_type": "heading",
     "level": 3,
     "metadata": {},
     "source": [
      "Machine 1 "
     ]
    },
    {
     "cell_type": "markdown",
     "metadata": {},
     "source": [
      "* Corsair Vengeance 2x8GB DDR3 1600 MHz Desktop Memory,\n",
      "* Intel(R) Core(TM) i7-4770K CPU @ 3.50GHz\n",
      "<http://www.cpubenchmark.net/cpu.php?cpu=Intel+Core+i7-4770K+%40+3.50GHz&id=1919>\n",
      "* GeForce GTX 770 SuperClocked\n",
      "* Samsung 840 Pro 256 GB SSD\n",
      "* Western Digital HDD 2TB Intellipower adjustable RPM 5400 - 7200 \n",
      "* Motherboard: Asus Z87-Deluxe DDR3 1600 LGA 1150\n",
      "* Linux Mint 15 Olivia (GNU/Linux 3.8.0-19-generic x86_64)"
     ]
    },
    {
     "cell_type": "heading",
     "level": 3,
     "metadata": {},
     "source": [
      "Software package dependencies on machine 1 "
     ]
    },
    {
     "cell_type": "markdown",
     "metadata": {},
     "source": [
      "Python package dependencies: \n",
      "\n",
      "* numpy 1.7.1\n",
      "* pandas 0.10.1\n",
      "* pp 1.6.4\n",
      "\n",
      "R - 3.0.2 \n",
      "\n",
      "gcc (Ubuntu/Linaro 4.7.3-1ubuntu1) 4.7.3"
     ]
    },
    {
     "cell_type": "heading",
     "level": 3,
     "metadata": {},
     "source": [
      "Machine 2"
     ]
    },
    {
     "cell_type": "markdown",
     "metadata": {},
     "source": [
      "* Mac Pro 5.1 \n",
      "* Processor Name: Intel 6-Core Xeon @ 2.66 GHz \n",
      "* Number of Processors: 2\n",
      "* Total Number of Cores per processor: 12\n",
      "* L2 Cache (per Core): 256 KB\n",
      "* L3 Cache (per Processor): 12 MB\n",
      "* Memory: 24 GB\n",
      "* Processor Interconnect Speed: 6.4 GT/s\n",
      "* OSX Maverick 10.9.1"
     ]
    },
    {
     "cell_type": "heading",
     "level": 3,
     "metadata": {},
     "source": [
      "Software package dependencies on machine 2 "
     ]
    },
    {
     "cell_type": "markdown",
     "metadata": {},
     "source": [
      "Python package dependencies: \n",
      "\n",
      "* numpy 1.8.0\n",
      "* pandas 0.13.0\n",
      "* pp 1.6.4 (not the best python package!!!)\n",
      "\n",
      "R - 3.0.2\n",
      "\n",
      "\n",
      "\n",
      "Apple LLVM version 5.0 (clang-500.2.79) (based on LLVM 3.3svn)\n",
      "\n",
      "Configured with: \n",
      "--prefix=/Applications/Xcode.app/Contents/Developer/usr \n",
      "\n",
      "--with-gxx-include-dir=/Applications/Xcode.app/Contents/Developer/Platforms/MacOSX.platform/Developer/SDKs/MacOSX10.9.sdk/usr/include/c++/4.2.1\n",
      "\n",
      "\n",
      "\n",
      "Target: x86_64-apple-darwin13.0.0\n",
      "\n",
      "Thread model: posix"
     ]
    },
    {
     "cell_type": "heading",
     "level": 2,
     "metadata": {},
     "source": [
      "Actual code"
     ]
    },
    {
     "cell_type": "heading",
     "level": 3,
     "metadata": {},
     "source": [
      "Method 1: parallelizing python with pp"
     ]
    },
    {
     "cell_type": "code",
     "collapsed": false,
     "input": [
      "!cat ../method1.py"
     ],
     "language": "python",
     "metadata": {},
     "outputs": [
      {
       "output_type": "stream",
       "stream": "stdout",
       "text": [
        "#!/usr/bin/env python\r\n",
        "import numpy as np\r\n",
        "import pp\r\n",
        "import sys\r\n",
        "\r\n",
        "data_path = \"../data/\"\r\n",
        "max_cpus = 24\r\n",
        "\r\n",
        "# catch exception\r\n",
        "assert len(sys.argv) == 2, \"Requires user to specify number of cpu \" + \\\r\n",
        "    \"used for parallelization\"\r\n",
        "assert int(sys.argv[1]) <= max_cpus, \"Max number of cpu used = 24\" + \\\r\n",
        "\t\t\" problematic input = \".format(argsv[0])\r\n",
        "\r\n",
        "# have the job server use the specified number of CPU!\r\n",
        "ncpus = int(sys.argv[1])\r\n",
        "job_server = pp.Server(ncpus=ncpus)\r\n",
        "\r\n",
        "\r\n",
        "def kludgy_read_csv_wrapper1(files):\r\n",
        "    import pandas as pd\r\n",
        "    import numpy as np\r\n",
        "    return np.array(pd.read_csv(files, usecols=[\"ArrDelay\"]))\r\n",
        "\r\n",
        "\r\n",
        "def kludgy_read_csv_wrapper2(files):\r\n",
        "    import numpy as np\r\n",
        "    import pandas as pd\r\n",
        "    return np.array(pd.read_csv(files, usecols=[\"ARR_DELAY\"]))\r\n",
        "\r\n",
        "#yr_by_yr_files = [data_path + \"1987.csv\"]\r\n",
        "yr_by_yr_files = [data_path + str(i) + \".csv\" for i in range(1987, 2008)]\r\n",
        "month = [\"January\", \"February\", \"March\", \"April\", \"May\", \"June\",\r\n",
        "         \"July\", \"August\", \"September\", \"October\", \"November\",\r\n",
        "         \"December\"]\r\n",
        "mnth_by_mnth_files = \\\r\n",
        "    [data_path + str(yr) + \"_\" + mnth +\r\n",
        "     \".csv\" for yr in range(2008, 2013) for mnth in month]\r\n",
        "\r\n",
        "##print \"going to read in the following # of files:\" + \\\r\n",
        "##    \" {0}\".format(len(yr_by_yr_files) + len(mnth_by_mnth_files))\r\n",
        "\r\n",
        "# looping in python\r\n",
        "jobs1 = [(input1,\r\n",
        "          job_server.submit(kludgy_read_csv_wrapper1,\r\n",
        "                            (input1,))) for input1 in yr_by_yr_files]\r\n",
        "\r\n",
        "jobs2 = [(input2,\r\n",
        "          job_server.submit(kludgy_read_csv_wrapper2,\r\n",
        "                            (input2,))) for input2 in mnth_by_mnth_files]\r\n",
        "\r\n",
        "# wait for all jobs to finish\r\n",
        "job_server.wait()\r\n",
        "delay = np.array([])\r\n",
        "for input, job1 in jobs1:\r\n",
        "    delay = np.append(delay, job1())\r\n",
        "\r\n",
        "for input2, job2 in jobs2:\r\n",
        "    delay = np.append(delay,job2())\r\n",
        "\r\n",
        "# one can parallelize the following but it's not worth the overhead\r\n",
        "delay = delay[~np.isnan(delay)]\r\n",
        "mean = np.mean(delay)\r\n",
        "sd = np.std(delay)\r\n",
        "median = np.median(delay)\r\n",
        "#print \"number of valid lines {0}\".format(delay.size())\r\n",
        "\r\n",
        "f = open(\"pp_{0}.txt\".format(ncpus), \"w\")\r\n",
        "f.write('mean = {0:1.7}\\n'.format(mean))\r\n",
        "f.write('median = {0:1.7}\\n'.format(median))\r\n",
        "f.write('std = {0:1.7}\\n'.format(sd))\r\n",
        "f.close()\r\n"
       ]
      }
     ],
     "prompt_number": 42
    },
    {
     "cell_type": "markdown",
     "metadata": {},
     "source": [
      "Wrapper for calling my python code with a range of cpu processors:"
     ]
    },
    {
     "cell_type": "code",
     "collapsed": false,
     "input": [
      "!cat ../method1_wrapper.py"
     ],
     "language": "python",
     "metadata": {},
     "outputs": [
      {
       "output_type": "stream",
       "stream": "stdout",
       "text": [
        "#!/usr/bin/env python \r\n",
        "import os\r\n",
        "\r\n",
        "for i in range(20,24): \r\n",
        "    os.system(\"(time ./method1.py {0}) 2>> time_cpus.txt\".format(i))\r\n"
       ]
      }
     ],
     "prompt_number": 43
    },
    {
     "cell_type": "heading",
     "level": 3,
     "metadata": {},
     "source": [
      "Version 2 with python threads (that failed miserably)"
     ]
    },
    {
     "cell_type": "code",
     "collapsed": false,
     "input": [
      "!cat ../profile_method1/profile_method1a.py"
     ],
     "language": "python",
     "metadata": {},
     "outputs": [
      {
       "output_type": "stream",
       "stream": "stdout",
       "text": [
        "\r\n",
        "\r\n",
        "import pandas as pd\r\n",
        "import numpy as np\r\n",
        "import thread\r\n",
        "import threading\r\n",
        "\r\n",
        "\r\n",
        "\r\n",
        "class myThread(threading.Thread):\r\n",
        "    def __init__(self, threadID, filename, colname):\r\n",
        "        threading.Thread.__init__(self)\r\n",
        "        self.threadID = threadID\r\n",
        "        self.filename = filename\r\n",
        "        self.colname = colname\r\n",
        "    def run(self):\r\n",
        "        print \"reading \" + self.filename\r\n",
        "        self.data = np.array(pd.read_csv(self.filename,\r\n",
        "                                         usecols=self.colname))\r\n",
        "\r\n",
        "\r\n",
        "def run():\r\n",
        "    data_path = \"../data/\"\r\n",
        "    yr_by_yr_files =\\\r\n",
        "        [data_path + str(i) + \".csv\" for i in range(1987, 2008)]\r\n",
        "    month = [\"January\", \"February\", \"March\", \"April\", \"May\", \"June\",\r\n",
        "                \"July\", \"August\", \"September\", \"October\", \"November\",\r\n",
        "                \"December\"]\r\n",
        "    mnth_by_mnth_files =         [data_path + str(yr) + \"_\" + mnth +\r\n",
        "            \".csv\" for yr in range(2008, 2013) for mnth in month]\r\n",
        "    print \"going to read in the following # of files:\" +         \" {0}\".format(len(yr_by_yr_files) + len(mnth_by_mnth_files))\r\n",
        "\r\n",
        "\r\n",
        "# Out[3]:\r\n",
        "\r\n",
        "#     going to read in the following # of files: 81\r\n",
        "#\r\n",
        "\r\n",
        "# In[24]:\r\n",
        "\r\n",
        "    threads = []\r\n",
        "    threadID = 1\r\n",
        "    for yr_f in yr_by_yr_files:\r\n",
        "        thread = myThread(threadID, yr_f, [\"ArrDelay\"])\r\n",
        "        thread.start()\r\n",
        "        threads.append(thread)\r\n",
        "        threadID += 1\r\n",
        "    for mth_f in mnth_by_mnth_files:\r\n",
        "        thread = myThread(threadID, mth_f, [\"ARR_DELAY\"])\r\n",
        "        thread.start()\r\n",
        "        threads.append(thread)\r\n",
        "        threadID += 1\r\n",
        "\r\n",
        "    data = np.array([])\r\n",
        "\r\n",
        "\r\n",
        "    for t in threads:\r\n",
        "        t.join()\r\n",
        "        data = np.append(data, t.data)\r\n",
        "\r\n",
        "    mean = np.mean(data[~np.isnan(data)])\r\n",
        "    median = np.median(data[~np.isnan(data)])\r\n",
        "    sd = np.std(data[~np.isnan(data)])\r\n",
        "\r\n",
        "    print mean\r\n",
        "    print median\r\n",
        "    print sd\r\n",
        "\r\n"
       ]
      }
     ],
     "prompt_number": 44
    },
    {
     "cell_type": "heading",
     "level": 3,
     "metadata": {},
     "source": [
      "Method 2: AirlineDelay package "
     ]
    },
    {
     "cell_type": "markdown",
     "metadata": {},
     "source": [
      "I will not post all the C code here. The summary of the modifications that I made are summarized above."
     ]
    },
    {
     "cell_type": "code",
     "collapsed": false,
     "input": [
      "!sed -n  '83,183p' ../AirlineDelays/R/getDelayFreqTable.R"
     ],
     "language": "python",
     "metadata": {},
     "outputs": [
      {
       "output_type": "stream",
       "stream": "stdout",
       "text": [
        "\r\n",
        "#' @name getListOfFiles\r\n",
        "#' @title return a list of filenames \r\n",
        "#' @param filepath \r\n",
        "#'   string that contains the path to the directory containing the files \r\n",
        "#' @param  pattern \r\n",
        "#'   string that denotes the regular expression for matching file names \r\n",
        "#' @param full.names \r\n",
        "#' @return FILES \r\n",
        "#'   R list of filenames \r\n",
        "#' @seealso \\code{\\link[base]{list.files}}\r\n",
        "#' @export\r\n",
        "getListOfFiles = \r\n",
        "function(filepath, pattern = NULL, full.names = TRUE)\r\n",
        "{  \r\n",
        "  # list all the files in the relevant diretory\r\n",
        "  files = list.files(filepath, pattern = pattern, full.names = TRUE)\r\n",
        "  if(length(files) == 0)\r\n",
        "  {\r\n",
        "    stop(paste(\"Failed to read in files at\", filepath))\r\n",
        "  }\r\n",
        "   \r\n",
        "  # function that Duncan wrote only likes lists \r\n",
        "  # so have to rearrange the file paths as lists \r\n",
        "  FILES <- list()\r\n",
        "  for(i in 1:length(files))\r\n",
        "  {\r\n",
        "    FILES <- append(FILES, list(files[i])) \r\n",
        "  }\r\n",
        "  FILES\r\n",
        "}\r\n",
        "\r\n",
        "\r\n",
        "#' @name checkInputsForErrors \r\n",
        "#' @title check for input errors \r\n",
        "#' @param FILES \r\n",
        "#'   R list of files \r\n",
        "#' @param numCores  \r\n",
        "#'  an integer that denotes the number of cores to be used  \r\n",
        "#' @note this suppresses a possible memory error \r\n",
        "#' @return numCores \r\n",
        "#'  an integer that denotes numCore that will not cause memory error\r\n",
        "#' @export\r\n",
        "checkInputsForErrors =\r\n",
        "function(FILES, numCores)\r\n",
        "{\r\n",
        " if(length(FILES) < as.integer(numCores)){\r\n",
        "   print(\"Number of files supplied < number of threads!!\")\r\n",
        "   print(\"setting numCores = number of files\")\r\n",
        "   numCores <- length(FILES)\r\n",
        " }\r\n",
        " if(length(FILES) > as.integer(numCores)){\r\n",
        "   stop(\"Number of files supplied > number of threads! \\n\r\n",
        "        Increase the number of threads via numCores!\")\r\n",
        "\r\n",
        " }\r\n",
        " numCores\r\n",
        "}\r\n",
        "\r\n",
        "\r\n",
        "#' @name freq_mean\r\n",
        "#' @title compute mean from frequency table\r\n",
        "#' @param tt \r\n",
        "#'   vector with count as field value, column name as delay\r\n",
        "#' @param w.total\r\n",
        "#'   integer denoting total frequency count \r\n",
        "#' @return list of \r\n",
        "#'   total freq. count, mean \r\n",
        "#' @export\r\n",
        "freq_mean = \r\n",
        "function(tt)\r\n",
        "{\r\n",
        "  print(tt)\r\n",
        "  df <- as.data.frame(tt)\r\n",
        "  # store them as double to avoid numerical instabilities\r\n",
        "  delay <- sapply(rownames(df), as.double)  \r\n",
        "  w.total <- sum(df[,c('tt')]) \r\n",
        "  # would there be overflow? or underflow for the following line?\r\n",
        "  t.mean <- sum(df[,c('tt')] * ( delay / w.total), na.rm = TRUE)\r\n",
        "\r\n",
        "  c(w.total, t.mean)\r\n",
        "}\r\n",
        "\r\n",
        "\r\n",
        "#' @name freq_median\r\n",
        "#' @title compute median from frequency table\r\n",
        "#' @param w.total\r\n",
        "#'   integer denoting total frequency count \r\n",
        "#' @param tt \r\n",
        "#'   vector with count as field value, column name as delay\r\n",
        "#' @return median \r\n",
        "#'   double\r\n",
        "#' @export\r\n",
        "freq_median = \r\n",
        "function(w.total, tt)\r\n",
        "{\r\n",
        "  i <- 1\r\n",
        "  df <- as.data.frame(tt)\r\n",
        "  delay <- sapply(rownames(df), as.double)  \r\n",
        "  Sum <- df[['tt']][i]\r\n",
        "\r\n"
       ]
      }
     ],
     "prompt_number": 45
    },
    {
     "cell_type": "code",
     "collapsed": false,
     "input": [
      "!sed -n  '184,242p' ../AirlineDelays/R/getDelayFreqTable.R"
     ],
     "language": "python",
     "metadata": {},
     "outputs": [
      {
       "output_type": "stream",
       "stream": "stdout",
       "text": [
        "  medianFreqCount <- floor(w.total / 2) \r\n",
        "  ## sorry don't know better than to write a loop...\r\n",
        "  while(Sum < medianFreqCount) { \r\n",
        "    i <- i + 1 \r\n",
        "    # this vectorized operation \r\n",
        "    Sum <- sum(df[['tt']][1:i], na.rm = TRUE)\r\n",
        "    # is faster than \r\n",
        "    ## if ( !is.na(DF[['freq']][i]) ) {\r\n",
        "    ##   Sum <- Sum + DF[['freq']][i] \r\n",
        "    ## }\r\n",
        "  }\r\n",
        "\r\n",
        "  ## check for corner case:  \r\n",
        "  ## or else there the median will may be off  \r\n",
        "  if( Sum == medianFreqCount &&  w.total %% 2 == 0){\r\n",
        "    #print(\"going through special case\")\r\n",
        "    t.median <- (delay[i] + delay[i+1])/2   \r\n",
        "  }else{\r\n",
        "    t.median <- delay[i]\r\n",
        "  } \r\n",
        "  t.median\r\n",
        "}\r\n",
        "\r\n",
        "#' @name freq_sd\r\n",
        "#' @title compute sd from frequency table\r\n",
        "#' @param t.mean\r\n",
        "#'   double denoting the mean\r\n",
        "#' @param w.total\r\n",
        "#'   integer denoting total frequency count \r\n",
        "#' @param tt \r\n",
        "#'   vector with count as field value, column name as delay\r\n",
        "#' @return median \r\n",
        "#'   double\r\n",
        "#' @export\r\n",
        "freq_sd = \r\n",
        "function(t.mean, tt, w.total)\r\n",
        "{\r\n",
        "  df <- as.data.frame(tt)\r\n",
        "  delay <- sapply(rownames(df), as.double)  \r\n",
        "  std.dev <- sqrt(sum(df[,c('tt')] * (delay - t.mean) ^ 2 / (w.total-1))) \r\n",
        "}\r\n"
       ]
      }
     ],
     "prompt_number": 46
    },
    {
     "cell_type": "heading",
     "level": 3,
     "metadata": {},
     "source": [
      "code for global test of individual files:"
     ]
    },
    {
     "cell_type": "code",
     "collapsed": false,
     "input": [
      "!cat ../AirlineDelays/tests/test_stat.R"
     ],
     "language": "python",
     "metadata": {},
     "outputs": [
      {
       "output_type": "stream",
       "stream": "stdout",
       "text": [
        "require(AirlineDelays)\r\n",
        "filepath <- \"/mnt/Winter14Stat250/HW2_Stat250_W14/data/\"\r\n",
        "pattern <- \"^2008_May.csv$\"\r\n",
        "filename <- \"2008_May.csv\"\r\n",
        "datapath <- paste(filepath, filename, sep='')\r\n",
        "#wantedCol <- 15L\r\n",
        "wantedCol <- 43L\r\n",
        "tolerance <- 1e-12\r\n",
        "\r\n",
        "getStat = \r\n",
        "function(datapath, wantedCol)\r\n",
        "{\r\n",
        "  # just wanna grab a particular column\r\n",
        "  #numLines <- getNumLines(datapath)\r\n",
        "  df <- read.csv(datapath, nrow = 1)\r\n",
        "  colNum <- length(colnames(df))\r\n",
        "  colClasses <- vector(\"list\", colNum)\r\n",
        "  colClasses[[wantedCol]] <- \"numeric\"\r\n",
        "\r\n",
        "  df <- read.csv(datapath, colClasses = colClasses, fill = T)#, nrow = numLines)\r\n",
        "  colName <- colnames(df)\r\n",
        "  mean_ans <- mean(df[,c(colName[[1]])], na.rm = T)\r\n",
        "  median_ans <- median(df[,c(colName[[1]])], na.rm = T)\r\n",
        "  sd_ans <- sd(df[,c(colName[[1]])], na.rm = T)\r\n",
        "  #print(paste(\"total sum from read.csv=\",sum(df[,c(colName[[1]])], na.rm =\r\n",
        "  #                                           T)))\r\n",
        "  c(mean_ans, median_ans, sd_ans)\r\n",
        "}\r\n",
        "stat_ans <- getStat(datapath, wantedCol)\r\n",
        "print(stat_ans)\r\n",
        "\r\n",
        "\r\n",
        "\r\n",
        "# this numCore variable should be input from the console instead \r\n",
        "\r\n",
        "FILES <- getListOfFiles(filepath, pattern = pattern)\r\n",
        "print(paste(\"Setting numThreads = number of files input =\", length(FILES)))\r\n",
        "tt <- getDelayTable_thread(FILES, numThreads = length(FILES))\r\n",
        "ans <- freq_mean(tt)\r\n",
        "ad_mean <- ans[[2]]\r\n",
        "ad_std <- freq_sd(ans[[2]], tt, ans[[1]])\r\n",
        "ad_median <- freq_median(ans[[1]], tt)\r\n",
        "\r\n",
        "#sprintf(\"%1.10f\", ad_mean, stat_ans[[1]]) \r\n",
        "#sprintf(\"%1.10f %1.10f\", ad_mean, stat_ans[[1]]) \r\n",
        "#sprintf(\"%1.10f %1.10f\", ad_median, stat_ans[[2]]) \r\n",
        "#sprintf(\"%1.10f %1.10f\", ad_std, stat_ans[[3]]) \r\n",
        "\r\n",
        "stopifnot(ad_mean - stat_ans[[1]] < tolerance)\r\n",
        "stopifnot(ad_median[[1]] -  stat_ans[[2]] < tolerance)\r\n",
        "stopifnot(ad_std -  stat_ans[[3]] < tolerance)\r\n",
        "\r\n",
        "print(paste(\"Passed global test with tolerance of stat precision =\", tolerance))\r\n",
        "\r\n",
        "\r\n",
        "\r\n"
       ]
      }
     ],
     "prompt_number": 47
    },
    {
     "cell_type": "heading",
     "level": 1,
     "metadata": {},
     "source": [
      "References:"
     ]
    },
    {
     "cell_type": "markdown",
     "metadata": {},
     "source": [
      "[1] <http://cyrille.rossant.net/profiling-and-optimizing-python-code/>"
     ]
    }
   ],
   "metadata": {}
  }
 ]
}