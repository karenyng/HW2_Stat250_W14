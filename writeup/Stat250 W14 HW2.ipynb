{
 "metadata": {
  "name": ""
 },
 "nbformat": 3,
 "nbformat_minor": 0,
 "worksheets": [
  {
   "cells": [
    {
     "cell_type": "markdown",
     "metadata": {},
     "source": [
      "Stat 250 HW 2 with Prof. Duncan Temple Lang\n",
      "\n",
      "Author: (Karen) Yin-Yee Ng <karenyng@ucdavis.edu>\n",
      "\n",
      "Github repository: <https://github.com/karenyng>\n",
      "\n"
     ]
    },
    {
     "cell_type": "code",
     "collapsed": false,
     "input": [
      "%autosave 60\n",
      "\n",
      "# the following two lines allows the generating \n",
      "# a floating table of content \n",
      "# currently does not work with nbviewer online nor pdf \n",
      "# I may fix it someday during my infinite spare time \n",
      "%load_ext nbtoc\n",
      "%nbtoc\n",
      "\n",
      "from __future__ import division\n",
      "%load_ext line_profiler\n",
      "%load_ext memory_profiler"
     ],
     "language": "python",
     "metadata": {},
     "outputs": [
      {
       "javascript": [
        "IPython.notebook.set_autosave_interval(60000)"
       ],
       "metadata": {},
       "output_type": "display_data"
      },
      {
       "output_type": "stream",
       "stream": "stdout",
       "text": [
        "Autosaving every 60 seconds\n",
        "The nbtoc extension is already loaded. To reload it, use:\n",
        "  %reload_ext nbtoc\n"
       ]
      },
      {
       "html": [
        "<!-- extracted from https://gist.github.com/magican/5574556 -->\n",
        "<div id=\"toc-wrapper\">\n",
        "    <div class=\"header\">Contents <a href=\"#\" class=\"hide-btn\">[hide]</a></div>\n",
        "    <div id=\"toc\"></div>\n",
        "</div>\n",
        " \n",
        "<style>\n",
        "  #toc {\n",
        "    overflow-y: scroll;\n",
        "    max-height: 300px;\n",
        "  }\n",
        "  #toc-wrapper {\n",
        "    position: fixed; top: 120px; max-width:430px; right: 20px;\n",
        "    border: thin solid rgba(0, 0, 0, 0.38); opacity: .8;\n",
        "    border-radius: 5px; background-color: #fff; padding:10px;\n",
        "    z-index: 100;\n",
        "  }\n",
        "  #toc-wrapper.closed {\n",
        "      min-width: 100px;\n",
        "      width: auto;\n",
        "      transition: width;\n",
        "  }\n",
        "  #toc-wrapper:hover{\n",
        "      opacity:1;\n",
        "  }\n",
        "  #toc-wrapper .header {\n",
        "      font-size:18px; font-weight: bold;\n",
        "  }\n",
        "  #toc-wrapper .hide-btn {\n",
        "      font-size: 14px;\n",
        "  }\n",
        " \n",
        "</style>\n",
        "\n",
        "<style>\n",
        "  ol.nested {\n",
        "    counter-reset: item;\n",
        "    list-style: none;\n",
        "  }\n",
        "  li.nested {\n",
        "        display: block;\n",
        "    }\n",
        "  li.nested:before {\n",
        "        counter-increment: item;\n",
        "        content: counters(item, \".\")\" \";\n",
        "    }\n",
        "</style>\n"
       ],
       "metadata": {},
       "output_type": "display_data"
      },
      {
       "javascript": [
        "// adapted from https://gist.github.com/magican/5574556\n",
        "\n",
        "function clone_anchor(element) {\n",
        "  // clone link\n",
        "  var h = element.find(\"div.text_cell_render\").find(':header').first();\n",
        "  var a = h.find('a').clone();\n",
        "  var new_a = $(\"<a>\");\n",
        "  new_a.attr(\"href\", a.attr(\"href\"));\n",
        "  // get the text *excluding* the link text, whatever it may be\n",
        "  var hclone = h.clone();\n",
        "  hclone.children().remove();\n",
        "  new_a.text(hclone.text());\n",
        "  return new_a;\n",
        "}\n",
        "\n",
        "function ol_depth(element) {\n",
        "  // get depth of nested ol\n",
        "  var d = 0;\n",
        "  while (element.prop(\"tagName\").toLowerCase() == 'ol') {\n",
        "    d += 1;\n",
        "    element = element.parent();\n",
        "  }\n",
        "  return d;\n",
        "}\n",
        "\n",
        "function table_of_contents(threshold) {\n",
        "  if (threshold === undefined) {\n",
        "    threshold = 4;\n",
        "  }\n",
        "  var cells = IPython.notebook.get_cells();\n",
        "  \n",
        "  var ol = $(\"<ol/>\");\n",
        "  $(\"#toc\").empty().append(ol);\n",
        "  \n",
        "  for (var i=0; i < cells.length; i++) {\n",
        "    var cell = cells[i];\n",
        "    \n",
        "    if (cell.cell_type !== 'heading') continue;\n",
        "    \n",
        "    var level = cell.level;\n",
        "    if (level > threshold) continue;\n",
        "    \n",
        "    var depth = ol_depth(ol);\n",
        "\n",
        "    // walk down levels\n",
        "    for (; depth < level; depth++) {\n",
        "      var new_ol = $(\"<ol/>\");\n",
        "      ol.append(new_ol);\n",
        "      ol = new_ol;\n",
        "    }\n",
        "    // walk up levels\n",
        "    for (; depth > level; depth--) {\n",
        "      ol = ol.parent();\n",
        "    }\n",
        "    //\n",
        "    ol.append(\n",
        "      $(\"<li/>\").append(clone_anchor(cell.element))\n",
        "    );\n",
        "  }\n",
        "\n",
        "  $('#toc-wrapper .header').click(function(){\n",
        "    $('#toc').slideToggle();\n",
        "    $('#toc-wrapper').toggleClass('closed');\n",
        "    if ($('#toc-wrapper').hasClass('closed')){\n",
        "      $('#toc-wrapper .hide-btn').text('[show]');\n",
        "    } else {\n",
        "      $('#toc-wrapper .hide-btn').text('[hide]');\n",
        "    }\n",
        "    return false;\n",
        "  })\n",
        "\n",
        "  $(window).resize(function(){\n",
        "    $('#toc').css({maxHeight: $(window).height() - 200})\n",
        "  })\n",
        "\n",
        "  $(window).trigger('resize')\n",
        "}\n",
        "\n",
        "table_of_contents();\n",
        "\n",
        "\n"
       ],
       "metadata": {},
       "output_type": "display_data"
      },
      {
       "output_type": "stream",
       "stream": "stdout",
       "text": [
        "The line_profiler extension is already loaded. To reload it, use:\n",
        "  %reload_ext line_profiler\n",
        "The memory_profiler extension is already loaded. To reload it, use:\n",
        "  %reload_ext memory_profiler\n"
       ]
      }
     ],
     "prompt_number": 5
    },
    {
     "cell_type": "heading",
     "level": 1,
     "metadata": {},
     "source": [
      "Background of this assignment"
     ]
    },
    {
     "cell_type": "markdown",
     "metadata": {},
     "source": [
      "We parallelize previous methods  for computing statistics of large csv methods with goals of: \n",
      "\n",
      "* comparing different ways of parallelizing the code\n",
      "* examining the speeding up of the code from different ways of parallelism\n",
      "\n",
      "Discussion of the previous methods is available at: \n",
      "\n",
      "<http://nbviewer.ipython.org/github/karenyng/HW1_Stat250_Winter14/blob/master/writeup/hw1.ipynb?create=1>"
     ]
    },
    {
     "cell_type": "heading",
     "level": 2,
     "metadata": {},
     "source": [
      "Possible difficulties / overhead"
     ]
    },
    {
     "cell_type": "markdown",
     "metadata": {},
     "source": [
      "* handling data locality - avoid passing data around different workers \n",
      "* overhead of combining data to compute the median"
     ]
    },
    {
     "cell_type": "heading",
     "level": 2,
     "metadata": {},
     "source": [
      "Notes for myself - Key concepts of parallelism "
     ]
    },
    {
     "cell_type": "markdown",
     "metadata": {},
     "source": [
      "> Data parallelism\n",
      "\n",
      "handling multiple inputs concurrently\n",
      "\n",
      "> Task parallelism\n",
      "\n",
      "if tasks are not dependent on each other, then they can be perform simultaneously with different workers\n",
      "\n",
      "> Data locality \n",
      "\n",
      "Be careful about how to fork the data.  Fine grained functions is hard to parallelize well since a lot of communication about the data will decrease the efficiency.\n",
      "Also have to be aware of how the language scope the functions / variables when sending them from master node to worker nodes\n",
      "\n",
      "> Race condition \n",
      "\n",
      "> Deadlock \n"
     ]
    },
    {
     "cell_type": "heading",
     "level": 2,
     "metadata": {},
     "source": [
      "My idea of how the most efficient algorithm in terms of both speed and memory usage should go: "
     ]
    },
    {
     "cell_type": "markdown",
     "metadata": {},
     "source": [
      "use a compiled language:\n",
      "\n",
      "* use threads to read in column data of each file concurrently line by line into shared memory (1st pass) while making a frequency table for the column data for each file\n",
      "* combine frequency tables (this has to done be sequentially)\n",
      "\n",
      "The following might not help but would be interesting to see how the runtime scales:\n",
      "\n",
      "* make two more copies of the combined frequency table assuming the table is small enough that copying is fast\n",
      "* compute mean, median and standard deviation from the 3 copies of the frequency tables with three threads"
     ]
    },
    {
     "cell_type": "heading",
     "level": 3,
     "metadata": {},
     "source": [
      "Performance metric of parallelizing code:"
     ]
    },
    {
     "cell_type": "markdown",
     "metadata": {},
     "source": [
      "(From Scaling Up Machine Learning - Bekkerman R.) \n",
      "\n",
      "* speedup - ratio of solution time for sequential algorithms vs. its parallel counterpart\n",
      "\n",
      "* efficiency - measures the ratio of speed up to the # of processors\n",
      "\n",
      "* scalability - tracks efficiency as a function of an increasing number of processors  <- how are the lower two different!?!?!?!?!"
     ]
    },
    {
     "cell_type": "heading",
     "level": 1,
     "metadata": {},
     "source": [
      "Method 1: Parallelization in python "
     ]
    },
    {
     "cell_type": "markdown",
     "metadata": {},
     "source": [
      "My code originally runs for ~3 mins. I am parallelizing it because I want to learn how to parallelize python code properly, most of the codes between me and my collaborators are in python (it's a community preference not a personal one). \n",
      "\n",
      "\n",
      "I mainly make use of the book \"Python high performance programming\" as my reference for this method."
     ]
    },
    {
     "cell_type": "heading",
     "level": 2,
     "metadata": {},
     "source": [
      "Profiling my python code to see where the speed / memory bottleneck is"
     ]
    },
    {
     "cell_type": "markdown",
     "metadata": {},
     "source": [
      "Following a really nice tutorial at: \n",
      "\n",
      "<http://pynash.org/2013/03/06/timing-and-profiling.html>"
     ]
    },
    {
     "cell_type": "markdown",
     "metadata": {},
     "source": [
      "import a version of the code that is wrapped as a function"
     ]
    },
    {
     "cell_type": "markdown",
     "metadata": {},
     "source": [
      "run line profiler on it and dump the output to lpstat.txt"
     ]
    },
    {
     "cell_type": "markdown",
     "metadata": {},
     "source": [
      "    from profile_stat import run\n",
      "    %prun -T lpstat.txt run()"
     ]
    },
    {
     "cell_type": "markdown",
     "metadata": {},
     "source": [
      "Educated guess: the reading in of files would take the most amount of time ... "
     ]
    },
    {
     "cell_type": "code",
     "collapsed": false,
     "input": [
      "!head -10 lpstat.txt"
     ],
     "language": "python",
     "metadata": {},
     "outputs": [
      {
       "output_type": "stream",
       "stream": "stdout",
       "text": [
        "         50247 function calls (50245 primitive calls) in 190.815 seconds\r\n",
        "\r\n",
        "   Ordered by: internal time\r\n",
        "\r\n",
        "   ncalls  tottime  percall  cumtime  percall filename:lineno(function)\r\n",
        "       81  167.560    2.069  167.560    2.069 {method 'read' of 'pandas._parser.TextReader' objects}\r\n",
        "      163   10.553    0.065   10.553    0.065 {numpy.core.multiarray.concatenate}\r\n",
        "        1    2.619    2.619    2.619    2.619 {pandas.algos.median}\r\n",
        "        1    1.483    1.483  190.694  190.694 profile_stat.py:8(run)\r\n",
        "        4    1.387    0.347    1.387    0.347 common.py:128(_isnull_ndarraylike)\r\n"
       ]
      }
     ],
     "prompt_number": 1
    },
    {
     "cell_type": "markdown",
     "metadata": {},
     "source": [
      "If we read the \"cumtime\" column  we can find that most of the time is actually spent on reading the data the csv files. \n",
      "There is also half a minute spent on merging, appending and concatanating files - which is ~15% of the runtime... we may be able to  assign different cores to join different data frames together.\n",
      "The reading of files is actually quite embarrassingly parallel but is also limited by the memory. \n",
      "Column data from each file is only around:"
     ]
    },
    {
     "cell_type": "code",
     "collapsed": false,
     "input": [
      "print '{0:.0f} MB'.format(2.2 / 81. * 1000)"
     ],
     "language": "python",
     "metadata": {},
     "outputs": [
      {
       "output_type": "stream",
       "stream": "stdout",
       "text": [
        "27 MB\n"
       ]
      }
     ],
     "prompt_number": 2
    },
    {
     "cell_type": "markdown",
     "metadata": {},
     "source": [
      "Even if we read 4 at the same time it should only be ~0.1 GB for my quad core desktop with 16 GB of RAM... unless my code is doing something really stupid.\n",
      "\n",
      "Let's do memory profiling to see if that's true!\n"
     ]
    },
    {
     "cell_type": "markdown",
     "metadata": {},
     "source": [
      "    %mprun -T mpstat.txt -f run run() "
     ]
    },
    {
     "cell_type": "code",
     "collapsed": false,
     "input": [
      "!cat mpstat.txt"
     ],
     "language": "python",
     "metadata": {},
     "outputs": [
      {
       "output_type": "stream",
       "stream": "stdout",
       "text": [
        "Filename: profile_stat.py\r\n",
        "\r\n",
        "Line #    Mem usage    Increment   Line Contents\r\n",
        "================================================\r\n",
        "     8    132.0 MiB      0.0 MiB   def run:\r\n",
        "     9    132.0 MiB      0.0 MiB       import pandas as pd\r\n",
        "    10    132.0 MiB      0.0 MiB       import numpy as np\r\n",
        "    11    132.0 MiB      0.0 MiB       data_path = \"../data/\"\r\n",
        "    12                             \r\n",
        "    13                                 # First read in the data from 1987 to 2007\r\n",
        "    14    132.0 MiB      0.0 MiB       year = [data_path + str(i) + \".csv\" for i in range(1987, 2008)]\r\n",
        "    15                                 # create empty dataframe\r\n",
        "    16    132.0 MiB      0.0 MiB       delay1 = pd.DataFrame()\r\n",
        "    17                                 # loop through the year-by-year csvs\r\n",
        "    18   1993.0 MiB   1861.0 MiB       for yr_file in year:\r\n",
        "    19                                     # read in relevant column from csv file using pandas\r\n",
        "    20   1879.3 MiB   -113.7 MiB           temp = pd.read_csv(yr_file, usecols=[\"ArrDelay\"])\r\n",
        "    21                                     # append the dataframes - this is done by reference not by value\r\n",
        "    22   1993.0 MiB    113.7 MiB           delay1 = delay1.append(temp)\r\n",
        "    23   1993.0 MiB      0.0 MiB           print 'appending ' + yr_file + ' - total lines = ' + \\\r\n",
        "    24   1993.0 MiB      0.0 MiB               '{0}'.format(delay1.shape[0])\r\n",
        "    25                             \r\n",
        "    26                                 # create another empty dataframe for handling month by month csv\r\n",
        "    27   1993.0 MiB      0.0 MiB       delay2 = pd.DataFrame()\r\n",
        "    28   1993.0 MiB      0.0 MiB       month = ['January', 'February', 'March', 'April', 'May', 'June', 'July',\r\n",
        "    29   1993.0 MiB      0.0 MiB               'August', 'September', 'October', 'November', 'December']\r\n",
        "    30   1993.0 MiB      0.0 MiB       year = [data_path + str(i) + \"_\" +\r\n",
        "    31   1993.0 MiB      0.0 MiB               mth + \".csv\" for i in range(2008, 2013) for mth in month"
       ]
      },
      {
       "output_type": "stream",
       "stream": "stdout",
       "text": [
        "]\r\n",
        "    32                                 # loop through all the month-by-month csv\r\n",
        "    33   2399.7 MiB    406.7 MiB       for yr_file in year:\r\n",
        "    34                                     # tell pandas to read only the relevant column in the csv\r\n",
        "    35   2392.2 MiB     -7.5 MiB           temp = pd.read_csv(yr_file, usecols=[\"ARR_DELAY\"])\r\n",
        "    36                                     # append them to the dataframe by reference\r\n",
        "    37   2399.7 MiB      7.5 MiB           delay2 = delay2.append(temp)\r\n",
        "    38   2399.7 MiB      0.0 MiB           print 'appending ' + yr_file + ' - total lines = ' + \\\r\n",
        "    39   2399.7 MiB      0.0 MiB               '{0}'.format(delay2.shape[0] + delay1.shape[0])\r\n",
        "    40                             \r\n",
        "    41                                 # hackish way to remove the column name of the dataframe to append\r\n",
        "    42                                 # the two types of csv columns together\r\n",
        "    43                                 # so I can compute the statistics in one pass later on\r\n",
        "    44   1510.7 MiB   -889.0 MiB       delay1 = np.array(delay1)\r\n",
        "    45   1265.8 MiB   -244.8 MiB       delay2 = np.array(delay2)\r\n",
        "    46   2399.7 MiB   1133.9 MiB       delay = np.append(delay1, delay2)\r\n",
        "    47   3533.6 MiB   1133.9 MiB       delay = pd.DataFrame(delay)\r\n",
        "    48   3533.6 MiB      0.0 MiB       print 'total number of valid lines = {0}'.format(delay.dropna().shape[0])\r\n",
        "    49                             \r\n",
        "    50                                 # note that pandas ignores nans automatically while computing stats\r\n",
        "    51   3533.6 MiB      0.0 MiB       print 'saving to results2.txt'\r\n",
        "    52   3533.6 MiB      0.0 MiB       f = open('results2.txt', 'w')\r\n",
        "    53   3533.6 MiB      0.0 MiB       f.write('mean = {0}\\n'.format(delay[0].mean()))\r\n",
        "    54   3533.6 MiB      0.0 MiB       f.write('median = {0}\\n'.format(delay[0].median()))\r\n",
        "    55   3533.6 MiB      0.0 MiB       f.write('std = {0}\\n'.format(delay[0].std()))\r\n",
        "    56   3533.6 MiB     -0.0 MiB       f.close()"
       ]
      }
     ],
     "prompt_number": 28
    },
    {
     "cell_type": "markdown",
     "metadata": {},
     "source": [
      "So the python memory profiler was reporting back that only ~3.5 GB of memory was used.\n",
      "Not sure if that is really true since the C backend of pandas might be by-passing the python intrepretter for memory usage. So I used valgrind to measure both the stack and heap usage. The memory use is consistent with what the python profiler found. \n",
      "The valgrind profiling results are stored in ${GIT REPOSITORY}/analysis/profile_m1_mem.txt. My code is NOT memory bound but something weird is going on that does not allow the parallelized version of the code to get faster with increased number of cores."
     ]
    },
    {
     "cell_type": "heading",
     "level": 2,
     "metadata": {},
     "source": [
      "Parallelize the bottleneck - different approaches within python"
     ]
    },
    {
     "cell_type": "heading",
     "level": 3,
     "metadata": {},
     "source": [
      "multi-threading (processing) in python?"
     ]
    },
    {
     "cell_type": "markdown",
     "metadata": {},
     "source": [
      "Python has a global interpretted lock (GIL) which prevents more than one thread from being run at a time under usual circumstances (it's implemented like a mutex). \n",
      "Python users are advised to use multiple processes via the multiprocessing module \n",
      "\n",
      "<http://docs.python.org/dev/library/multiprocessing.html>\n",
      "\n",
      "that is part of the standard python library instead.\n",
      "The difference between the two is that memory aren't shared naturally between multiple processes in the case of multiple threads. \n",
      "Not sure if that is going to impact us here. \n",
      "\n",
      "I tried using the default multiprocessing module but it does not like functions with optional arguments.\n",
      "Writing a wrapper function to parse the optional arguments also did not work properly. "
     ]
    },
    {
     "cell_type": "heading",
     "level": 3,
     "metadata": {},
     "source": [
      "parallel python packages "
     ]
    },
    {
     "cell_type": "markdown",
     "metadata": {},
     "source": [
      "There are quite a number of powerful packages that can handle either parallelization on multiple core machine or over a distributed network of machines. \n",
      "\n",
      "<https://wiki.python.org/moin/ParallelProcessing>\n",
      "\n",
      "In this assignment, I use the \"parallel python\" package (pp). The package seems quite comprehensive, it supports multicore processing, distributed computing over a cluster etc.\n",
      "But after some use, I do not actually like this package, it has the worst (close to non-existent) python package documentation I have seen. \n"
     ]
    },
    {
     "cell_type": "heading",
     "level": 2,
     "metadata": {},
     "source": [
      "Overall timings "
     ]
    },
    {
     "cell_type": "code",
     "collapsed": false,
     "input": [
      "from parse_time import parse_time as parse_t\n",
      "\n",
      "df = parse_t()\n",
      "non_parallel_t = 4. * 60. + 46.597\n",
      "\n",
      "fig = plt.figure(figsize = (8,6))\n",
      "ax = fig.add_subplot(111)\n",
      "ax.plot(range(1, 25), df[\"real\"], \".-\", label=\"real\")\n",
      "ax.plot(range(1, 25), df[\"user\"], \".-\", label=\"user\")\n",
      "ax.plot(range(1, 25), df[\"sys\"], \".-\", label=\"sys\")\n",
      "ax.axhline(non_parallel_t, label = \"non-parallel version real\", \n",
      "           color = \"k\", linewidth = 1.5)\n",
      "ax.set_xlabel(\"No. of cores used\", size = 15)\n",
      "ax.set_ylabel(\"time (s)\", size = 15)\n",
      "ax.legend(loc='best')\n",
      "ax.set_title('Timing on a 24 core Mac Pro',size=15)\n",
      "ax.set_ylim((0,400))"
     ],
     "language": "python",
     "metadata": {},
     "outputs": [
      {
       "metadata": {},
       "output_type": "pyout",
       "prompt_number": 41,
       "text": [
        "(0, 400)"
       ]
      },
      {
       "metadata": {},
       "output_type": "display_data",
       "png": "[encoded data removed]",
       "text": [
        "<matplotlib.figure.Figure at 0x623e890>"
       ]
      }
     ],
     "prompt_number": 41
    },
    {
     "cell_type": "markdown",
     "metadata": {},
     "source": [
      "This plot tells us that my code does not scale well. The parallelized version has overhead of starting job and the speed up is marginal.\n",
      "This plot makes me sad. Do not like what I see! Even though most of my research python codes (scipy, numpy, astropy ) use fast C code as backend but the thought of my code not being able to scale is a pain."
     ]
    },
    {
     "cell_type": "heading",
     "level": 2,
     "metadata": {},
     "source": [
      "Speed up "
     ]
    },
    {
     "cell_type": "heading",
     "level": 3,
     "metadata": {},
     "source": [
      "Speed up based on amount of data processed "
     ]
    },
    {
     "cell_type": "markdown",
     "metadata": {},
     "source": [
      "too lazy to do but would be interesting to find out "
     ]
    },
    {
     "cell_type": "heading",
     "level": 3,
     "metadata": {},
     "source": [
      "Speed up using multiple cores"
     ]
    },
    {
     "cell_type": "code",
     "collapsed": false,
     "input": [
      "fig = plt.figure(figsize = (8,6))\n",
      "ax = fig.add_subplot(111)\n",
      "ax.plot(range(1, 25), non_parallel_t / df[\"real\"], \".-\")\n",
      "ax.set_xlabel(\"No. of cores used\", size = 15)\n",
      "ax.set_ylabel(\"Wallclock time speed up \", size = 15)\n",
      "ax.set_title('Speed up compared to non-parallelized version ', size=15)"
     ],
     "language": "python",
     "metadata": {},
     "outputs": [
      {
       "metadata": {},
       "output_type": "pyout",
       "prompt_number": 45,
       "text": [
        "<matplotlib.text.Text at 0x7148e90>"
       ]
      },
      {
       "metadata": {},
       "output_type": "display_data",
       "png": "[encoded data removed]",
       "text": [
        "<matplotlib.figure.Figure at 0x5cb9410>"
       ]
      }
     ],
     "prompt_number": 45
    },
    {
     "cell_type": "markdown",
     "metadata": {},
     "source": [
      "It just would not scale for more than 3 cores !!! "
     ]
    },
    {
     "cell_type": "heading",
     "level": 2,
     "metadata": {},
     "source": [
      "Profiling of how long each part of the computations took and intrepretation "
     ]
    },
    {
     "cell_type": "heading",
     "level": 3,
     "metadata": {},
     "source": [
      "Timing and memory profile of parallelized code using the parallel python package on a 24-core machine"
     ]
    },
    {
     "cell_type": "markdown",
     "metadata": {},
     "source": [
      "Ok let's parse back the output of the \"time\" command from the shell. "
     ]
    },
    {
     "cell_type": "markdown",
     "metadata": {},
     "source": [
      "    from profile_method1 import run\n",
      "    %prun -T lpstat_parallelized_m1.txt run()"
     ]
    },
    {
     "cell_type": "markdown",
     "metadata": {},
     "source": [
      "If I am not lazy I would convert the following text file into a plot"
     ]
    },
    {
     "cell_type": "code",
     "collapsed": false,
     "input": [
      "!head -10 lpstat_parallelized_m1.txt"
     ],
     "language": "python",
     "metadata": {},
     "outputs": [
      {
       "output_type": "stream",
       "stream": "stdout",
       "text": [
        "         24731 function calls (24730 primitive calls) in 244.903 seconds\r\n",
        "\r\n",
        "   Ordered by: internal time\r\n",
        "\r\n",
        "   ncalls  tottime  percall  cumtime  percall filename:lineno(function)\r\n",
        "      450  223.675    0.497  223.675    0.497 {method 'acquire' of 'thread.lock' objects}\r\n",
        "      164   11.006    0.067   11.006    0.067 {numpy.core.multiarray.concatenate}\r\n",
        "        1    2.620    2.620    2.620    2.620 {pandas.algos.median}\r\n",
        "        1    1.201    1.201  244.566  244.566 profile_method1.py:1(run)\r\n",
        "       81    1.163    0.014    1.519    0.019 {cPickle.loads}\r\n"
       ]
      }
     ],
     "prompt_number": 1
    },
    {
     "cell_type": "markdown",
     "metadata": {},
     "source": [
      "The rest of the file does not have any more process that takes up a big chunk of computing time.\n",
      "So the Python Global Interpreter Lock (GIL) is really messing things up here."
     ]
    },
    {
     "cell_type": "heading",
     "level": 3,
     "metadata": {},
     "source": [
      "Profiling of a version that uses threads in python (...... can't believe I actually tried this after knowing about the GIL)"
     ]
    },
    {
     "cell_type": "markdown",
     "metadata": {},
     "source": [
      "    from profile_method1a import run\n",
      "    %prun -T lpstat_parallelized_m1a.txt run()"
     ]
    },
    {
     "cell_type": "markdown",
     "metadata": {},
     "source": [
      "If I am not lazy I would convert the following text file into a plot"
     ]
    },
    {
     "cell_type": "code",
     "collapsed": false,
     "input": [
      "!head -10 lpstat_parallelized_m1a.txt"
     ],
     "language": "python",
     "metadata": {},
     "outputs": [
      {
       "output_type": "stream",
       "stream": "stdout",
       "text": [
        "         4673 function calls in 249.731 seconds\r\n",
        "\r\n",
        "   Ordered by: internal time\r\n",
        "\r\n",
        "   ncalls  tottime  percall  cumtime  percall filename:lineno(function)\r\n",
        "      494  161.209    0.326  161.209    0.326 {method 'acquire' of 'thread.lock' objects}\r\n",
        "       81   44.126    0.545  155.997    1.926 threading.py:726(start)\r\n",
        "       81   22.865    0.282   22.865    0.282 {numpy.core.multiarray.concatenate}\r\n",
        "        1    5.846    5.846  249.630  249.630 profile_method1a.py:22(run)\r\n",
        "        1    5.201    5.201    5.201    5.201 {method 'sort' of 'numpy.ndarray' objects}\r\n"
       ]
      }
     ],
     "prompt_number": 2
    },
    {
     "cell_type": "markdown",
     "metadata": {},
     "source": [
      "It gets even slower.....\n",
      "The overhead for starting the threads and thread locks are totally slowing things down !!!\n",
      "I am not quite sure if the thread locks are actually due to: \n",
      "\n",
      "1. GIL, \n",
      "2. stupid handling of race conditions from the parallel package which I do not have any control over\n",
      "3. the memory bus / hard disk being a speed bottle neck\n",
      "\n",
      "Number 1 and 2 seem more likely than 3 but 3 can be a good guess.\n",
      "I actually found an interesting article online at:\n",
      "\n",
      "<http://www.drdobbs.com/parallel/multithreaded-file-io/220300055?pgno=2>\n",
      "\n",
      "about how normal desktop file systems have limitations for using threads for I/O. The results from the article does not explain why my code does not scale but it is nonetheless interesting to know that there are other file systems designed for multi-threaded I/O from disk:"
     ]
    },
    {
     "cell_type": "code",
     "collapsed": false,
     "input": [
      "from IPython.display import Image \n",
      "i = Image(url=\"http://twimgs.com/ddj/images/\" + \\\n",
      "          \"article/2009/0909/090928wuth5_fg1a.gif\")\n",
      "i"
     ],
     "language": "python",
     "metadata": {},
     "outputs": [
      {
       "html": [
        "<img src=\"http://twimgs.com/ddj/images/article/2009/0909/090928wuth5_fg1a.gif\"/>"
       ],
       "metadata": {},
       "output_type": "pyout",
       "prompt_number": 53,
       "text": [
        "<IPython.core.display.Image at 0x5fa6a10>"
       ]
      }
     ],
     "prompt_number": 53
    },
    {
     "cell_type": "markdown",
     "metadata": {},
     "source": [
      "where from web definition \n",
      ">    SCSI is especially designed as a parallel interface for I/O from hard disk \n",
      "\n",
      "\n",
      ">RAID-5 \n",
      ">The standard RAID levels are a basic set of RAID configurations that employ the techniques of striping, mirroring, or parity to create large reliable data stores from general purpose computer hard disk drives. The most common types today are RAID 0, RAID 1 and variants, RAID 5 and RAID 6. ..."
     ]
    },
    {
     "cell_type": "markdown",
     "metadata": {},
     "source": [
      "and of course if I/O is a huge issue there is also distributed file system like Hadoop."
     ]
    },
    {
     "cell_type": "heading",
     "level": 2,
     "metadata": {},
     "source": [
      "Verification of results "
     ]
    },
    {
     "cell_type": "markdown",
     "metadata": {},
     "source": [
      "I ran the code and asked it to automatically adjust the # of cores and output the mean, median and std. dev. to different files called pp_{NUMBER_OF_CORES}.txt.\n",
      "Ran a shell loop of \"diff\" on those files and they agree:"
     ]
    },
    {
     "cell_type": "code",
     "collapsed": false,
     "input": [
      "!../tests/for_diff.sh"
     ],
     "language": "python",
     "metadata": {},
     "outputs": [],
     "prompt_number": 55
    },
    {
     "cell_type": "markdown",
     "metadata": {},
     "source": [
      "The lack of output indicates they are the same."
     ]
    },
    {
     "cell_type": "code",
     "collapsed": false,
     "input": [
      "!cat ../tests/for_diff.sh"
     ],
     "language": "python",
     "metadata": {},
     "outputs": [
      {
       "output_type": "stream",
       "stream": "stdout",
       "text": [
        "#!/bin/bash\r\n",
        "\r\n",
        "for N in $(seq 24)\r\n",
        "do\r\n",
        "    \tdiff \"../writeup/runtime/pp_1.txt\" \"../writeup/runtime/pp_\"${N}\".txt\"\r\n",
        "done\r\n",
        "\r\n"
       ]
      }
     ],
     "prompt_number": 56
    },
    {
     "cell_type": "heading",
     "level": 1,
     "metadata": {},
     "source": [
      "Method 2 ---- C?"
     ]
    },
    {
     "cell_type": "heading",
     "level": 2,
     "metadata": {},
     "source": [
      "Possibly the slowest steps in terms of development time to complete the assignment"
     ]
    },
    {
     "cell_type": "markdown",
     "metadata": {},
     "source": [
      "* write a makefile\n",
      "* gather pieces of Duncan 's Arr Delay package code and decide which ones to adopt\n",
      "* unit test the adopted code\n",
      "* run valgrind to make sure there is no memory leak!\n",
      "* put them together\n",
      "* run the sequential version first to make sure everything work???\n",
      "* run the threaded version\n",
      "* do global test...\n",
      "* find a time-profiler for profiling each part of the code\n",
      "\n"
     ]
    },
    {
     "cell_type": "heading",
     "level": 1,
     "metadata": {},
     "source": [
      "Logistics"
     ]
    },
    {
     "cell_type": "heading",
     "level": 2,
     "metadata": {},
     "source": [
      "Code dependencies "
     ]
    },
    {
     "cell_type": "heading",
     "level": 2,
     "metadata": {},
     "source": [
      "How to run the code"
     ]
    },
    {
     "cell_type": "heading",
     "level": 2,
     "metadata": {},
     "source": [
      "Machine Specifications"
     ]
    },
    {
     "cell_type": "heading",
     "level": 3,
     "metadata": {},
     "source": [
      "Machine 1 "
     ]
    },
    {
     "cell_type": "markdown",
     "metadata": {},
     "source": [
      "* Corsair Vengeance 2x8GB DDR3 1600 MHz Desktop Memory,\n",
      "* Intel(R) Core(TM) i7-4770K CPU @ 3.50GHz\n",
      "<http://www.cpubenchmark.net/cpu.php?cpu=Intel+Core+i7-4770K+%40+3.50GHz&id=1919>\n",
      "* GeForce GTX 770 SuperClocked\n",
      "* Samsung 840 Pro 256 GB SSD\n",
      "* Western Digital HDD 2TB Intellipower adjustable RPM 5400 - 7200 \n",
      "* Motherboard: Asus Z87-Deluxe DDR3 1600 LGA 1150\n",
      "* Linux Mint 15 Olivia (GNU/Linux 3.8.0-19-generic x86_64)"
     ]
    },
    {
     "cell_type": "heading",
     "level": 3,
     "metadata": {},
     "source": [
      "Software package dependencies on machine 1 "
     ]
    },
    {
     "cell_type": "markdown",
     "metadata": {},
     "source": [
      "Python package dependencies: \n",
      "\n",
      "* numpy 1.7.1\n",
      "* pandas 0.10.1\n",
      "* pp 1.6.4\n"
     ]
    },
    {
     "cell_type": "heading",
     "level": 3,
     "metadata": {},
     "source": [
      "Machine 2"
     ]
    },
    {
     "cell_type": "markdown",
     "metadata": {},
     "source": [
      "* Mac Pro 5.1 \n",
      "* Processor Name: Intel 6-Core Xeon @ 2.66 GHz \n",
      "* Number of Processors: 2\n",
      "* Total Number of Cores: 12\n",
      "* L2 Cache (per Core): 256 KB\n",
      "* L3 Cache (per Processor): 12 MB\n",
      "* Memory: 24 GB\n",
      "* Processor Interconnect Speed: 6.4 GT/s\n",
      "* OSX Maverick 10.9.1"
     ]
    },
    {
     "cell_type": "heading",
     "level": 3,
     "metadata": {},
     "source": [
      "Software package dependencies on machine 2 "
     ]
    },
    {
     "cell_type": "markdown",
     "metadata": {},
     "source": [
      "Python package dependencies: \n",
      "\n",
      "* numpy 1.8.0\n",
      "* pandas 0.13.0\n",
      "* pp 1.6.4 (not the best python package!!!)"
     ]
    },
    {
     "cell_type": "heading",
     "level": 2,
     "metadata": {},
     "source": [
      "Actual code"
     ]
    },
    {
     "cell_type": "heading",
     "level": 3,
     "metadata": {},
     "source": [
      "Method 1: parallelizing python with pp"
     ]
    },
    {
     "cell_type": "code",
     "collapsed": false,
     "input": [
      "!cat ../method1.py"
     ],
     "language": "python",
     "metadata": {},
     "outputs": [
      {
       "output_type": "stream",
       "stream": "stdout",
       "text": [
        "#!/usr/bin/env python\r\n",
        "import numpy as np\r\n",
        "import pp\r\n",
        "import sys\r\n",
        "\r\n",
        "data_path = \"../data/\"\r\n",
        "max_cpus = 24\r\n",
        "\r\n",
        "# catch exception\r\n",
        "assert len(sys.argv) == 2, \"Requires user to specify number of cpu \" + \\\r\n",
        "    \"used for parallelization\"\r\n",
        "assert int(sys.argv[1]) <= max_cpus, \"Max number of cpu used = 24\" + \\\r\n",
        "\t\t\" problematic input = \".format(argsv[0])\r\n",
        "\r\n",
        "# have the job server use the specified number of CPU!\r\n",
        "ncpus = int(sys.argv[1])\r\n",
        "job_server = pp.Server(ncpus=ncpus)\r\n",
        "\r\n",
        "\r\n",
        "def kludgy_read_csv_wrapper1(files):\r\n",
        "    import pandas as pd\r\n",
        "    import numpy as np\r\n",
        "    return np.array(pd.read_csv(files, usecols=[\"ArrDelay\"]))\r\n",
        "\r\n",
        "\r\n",
        "def kludgy_read_csv_wrapper2(files):\r\n",
        "    import numpy as np\r\n",
        "    import pandas as pd\r\n",
        "    return np.array(pd.read_csv(files, usecols=[\"ARR_DELAY\"]))\r\n",
        "\r\n",
        "#yr_by_yr_files = [data_path + \"1987.csv\"]\r\n",
        "yr_by_yr_files = [data_path + str(i) + \".csv\" for i in range(1987, 2008)]\r\n",
        "month = [\"January\", \"February\", \"March\", \"April\", \"May\", \"June\",\r\n",
        "         \"July\", \"August\", \"September\", \"October\", \"November\",\r\n",
        "         \"December\"]\r\n",
        "mnth_by_mnth_files = \\\r\n",
        "    [data_path + str(yr) + \"_\" + mnth +\r\n",
        "     \".csv\" for yr in range(2008, 2013) for mnth in month]\r\n",
        "\r\n",
        "##print \"going to read in the following # of files:\" + \\\r\n",
        "##    \" {0}\".format(len(yr_by_yr_files) + len(mnth_by_mnth_files))\r\n",
        "\r\n",
        "# looping in python\r\n",
        "jobs1 = [(input1,\r\n",
        "          job_server.submit(kludgy_read_csv_wrapper1,\r\n",
        "                            (input1,))) for input1 in yr_by_yr_files]\r\n",
        "\r\n",
        "jobs2 = [(input2,\r\n",
        "          job_server.submit(kludgy_read_csv_wrapper2,\r\n",
        "                            (input2,))) for input2 in mnth_by_mnth_files]\r\n",
        "\r\n",
        "# wait for all jobs to finish\r\n",
        "job_server.wait()\r\n",
        "delay = np.array([])\r\n",
        "for input, job1 in jobs1:\r\n",
        "    delay = np.append(delay, job1())\r\n",
        "\r\n",
        "for input2, job2 in jobs2:\r\n",
        "    delay = np.append(delay,job2())\r\n",
        "\r\n",
        "# one can parallelize the following but it's not worth the overhead\r\n",
        "delay = delay[~np.isnan(delay)]\r\n",
        "mean = np.mean(delay)\r\n",
        "sd = np.std(delay)\r\n",
        "median = np.median(delay)\r\n",
        "\r\n",
        "f = open(\"pp_{0}.txt\".format(ncpus), \"w\")\r\n",
        "f.write('mean = {0:1.7}\\n'.format(mean))\r\n",
        "f.write('median = {0:1.7}\\n'.format(median))\r\n",
        "f.write('std = {0:1.7}\\n'.format(sd))\r\n",
        "f.close()\r\n"
       ]
      }
     ],
     "prompt_number": 1
    },
    {
     "cell_type": "markdown",
     "metadata": {},
     "source": [
      "Wrapper for calling my python code with a range of cpu processors:"
     ]
    },
    {
     "cell_type": "code",
     "collapsed": false,
     "input": [
      "!cat ../method1_wrapper.py"
     ],
     "language": "python",
     "metadata": {},
     "outputs": [
      {
       "output_type": "stream",
       "stream": "stdout",
       "text": [
        "#!/usr/bin/env python \r\n",
        "import os\r\n",
        "\r\n",
        "for i in range(20,24): \r\n",
        "    os.system(\"(time ./method1.py {0}) 2>> time_cpus.txt\".format(i))\r\n"
       ]
      }
     ],
     "prompt_number": 2
    },
    {
     "cell_type": "heading",
     "level": 3,
     "metadata": {},
     "source": [
      "Version 2 with python threads (that failed miserably)"
     ]
    },
    {
     "cell_type": "code",
     "collapsed": false,
     "input": [
      "!cat ../profile_method1/profile_method1a.py"
     ],
     "language": "python",
     "metadata": {},
     "outputs": [
      {
       "output_type": "stream",
       "stream": "stdout",
       "text": [
        "\r\n",
        "\r\n",
        "import pandas as pd\r\n",
        "import numpy as np\r\n",
        "import thread\r\n",
        "import threading\r\n",
        "\r\n",
        "\r\n",
        "\r\n",
        "class myThread(threading.Thread):\r\n",
        "    def __init__(self, threadID, filename, colname):\r\n",
        "        threading.Thread.__init__(self)\r\n",
        "        self.threadID = threadID\r\n",
        "        self.filename = filename\r\n",
        "        self.colname = colname\r\n",
        "    def run(self):\r\n",
        "        print \"reading \" + self.filename\r\n",
        "        self.data = np.array(pd.read_csv(self.filename,\r\n",
        "                                         usecols=self.colname))\r\n",
        "\r\n",
        "\r\n",
        "def run():\r\n",
        "    data_path = \"../data/\"\r\n",
        "    yr_by_yr_files =\\\r\n",
        "        [data_path + str(i) + \".csv\" for i in range(1987, 2008)]\r\n",
        "    month = [\"January\", \"February\", \"March\", \"April\", \"May\", \"June\",\r\n",
        "                \"July\", \"August\", \"September\", \"October\", \"November\",\r\n",
        "                \"December\"]\r\n",
        "    mnth_by_mnth_files =         [data_path + str(yr) + \"_\" + mnth +\r\n",
        "            \".csv\" for yr in range(2008, 2013) for mnth in month]\r\n",
        "    print \"going to read in the following # of files:\" +         \" {0}\".format(len(yr_by_yr_files) + len(mnth_by_mnth_files))\r\n",
        "\r\n",
        "\r\n",
        "# Out[3]:\r\n",
        "\r\n",
        "#     going to read in the following # of files: 81\r\n",
        "#\r\n",
        "\r\n",
        "# In[24]:\r\n",
        "\r\n",
        "    threads = []\r\n",
        "    threadID = 1\r\n",
        "    for yr_f in yr_by_yr_files:\r\n",
        "        thread = myThread(threadID, yr_f, [\"ArrDelay\"])\r\n",
        "        thread.start()\r\n",
        "        threads.append(thread)\r\n",
        "        threadID += 1\r\n",
        "    for mth_f in mnth_by_mnth_files:\r\n",
        "        thread = myThread(threadID, mth_f, [\"ARR_DELAY\"])\r\n",
        "        thread.start()\r\n",
        "        threads.append(thread)\r\n",
        "        threadID += 1\r\n",
        "\r\n",
        "    data = np.array([])\r\n",
        "\r\n",
        "\r\n",
        "    for t in threads:\r\n",
        "        t.join()\r\n",
        "        data = np.append(data, t.data)\r\n",
        "\r\n",
        "    mean = np.mean(data[~np.isnan(data)])\r\n",
        "    median = np.median(data[~np.isnan(data)])\r\n",
        "    sd = np.std(data[~np.isnan(data)])\r\n",
        "\r\n",
        "    print mean\r\n",
        "    print median\r\n",
        "    print sd\r\n",
        "\r\n"
       ]
      }
     ],
     "prompt_number": 3
    },
    {
     "cell_type": "heading",
     "level": 1,
     "metadata": {},
     "source": [
      "References:"
     ]
    },
    {
     "cell_type": "markdown",
     "metadata": {},
     "source": [
      "[1] <http://cyrille.rossant.net/profiling-and-optimizing-python-code/>\n",
      "\n",
      "[2]"
     ]
    }
   ],
   "metadata": {}
  }
 ]
}