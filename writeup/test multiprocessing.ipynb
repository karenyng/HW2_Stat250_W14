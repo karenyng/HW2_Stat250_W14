{
 "metadata": {
  "name": ""
 },
 "nbformat": 3,
 "nbformat_minor": 0,
 "worksheets": [
  {
   "cells": [
    {
     "cell_type": "code",
     "collapsed": false,
     "input": [
      "%autosave 60\n",
      "import pandas as pd \n",
      "import numpy as np\n",
      "import pp"
     ],
     "language": "python",
     "metadata": {},
     "outputs": [
      {
       "javascript": [
        "IPython.notebook.set_autosave_interval(60000)"
       ],
       "metadata": {},
       "output_type": "display_data"
      },
      {
       "output_type": "stream",
       "stream": "stdout",
       "text": [
        "Autosaving every 60 seconds\n"
       ]
      }
     ],
     "prompt_number": 1
    },
    {
     "cell_type": "code",
     "collapsed": false,
     "input": [
      "data_path = \"../data/\"\n",
      "ncpus = 3\n",
      "\n",
      "# have the job server use 4 cores without hyperthreading\n",
      "job_server = pp.Server(ncpus = ncpus)"
     ],
     "language": "python",
     "metadata": {},
     "outputs": [],
     "prompt_number": 2
    },
    {
     "cell_type": "code",
     "collapsed": false,
     "input": [
      "def kludgy_read_csv_wrapper1(files):\n",
      "    import pandas as pd\n",
      "    return pd.read_csv(files, usecols=[\"ArrDelay\"])\n",
      "\n",
      "def kludgy_read_csv_wrapper2(files):\n",
      "    import pandas as pd\n",
      "    return pd.read_csv(files, usecols=[\"ARR_DELAY\"])"
     ],
     "language": "python",
     "metadata": {},
     "outputs": [],
     "prompt_number": 3
    },
    {
     "cell_type": "code",
     "collapsed": false,
     "input": [
      "#yr_by_yr_files = [data_path + \"1987.csv\"]\n",
      "#mnth_by_mnth_files = [data_path + \"2008_May.csv\"]"
     ],
     "language": "python",
     "metadata": {},
     "outputs": [],
     "prompt_number": 4
    },
    {
     "cell_type": "code",
     "collapsed": false,
     "input": [
      "yr_by_yr_files = \\\n",
      "[data_path + str(i) + \".csv\" for i in range(1987, 2008)]\n",
      "\n",
      "month = [\"January\", \"February\", \"March\", \"April\", \"May\", \"June\", \n",
      "         \"July\", \"August\", \"September\", \"October\", \"November\",\n",
      "         \"December\"]\n",
      "mnth_by_mnth_files = \\\n",
      "[data_path + str(yr) + \"_\" + mnth + \".csv\" for yr in range(2008, 2013) for mnth in month]\n",
      "\n",
      "print \"going to read in the following # of files:\" + \\\n",
      "\" {0}\".format(len(yr_by_yr_files) + len(mnth_by_mnth_files))"
     ],
     "language": "python",
     "metadata": {},
     "outputs": [
      {
       "output_type": "stream",
       "stream": "stdout",
       "text": [
        "going to read in the following # of files: 81\n"
       ]
      }
     ],
     "prompt_number": 5
    },
    {
     "cell_type": "code",
     "collapsed": false,
     "input": [
      "# extreme looping in python \n",
      "%time jobs1 = \\\n",
      "[(input1, job_server.submit(kludgy_read_csv_wrapper1, (input1,))) for input1 in yr_by_yr_files]"
     ],
     "language": "python",
     "metadata": {},
     "outputs": [
      {
       "output_type": "stream",
       "stream": "stdout",
       "text": [
        "CPU times: user 0 ns, sys: 0 ns, total: 0 ns\n",
        "Wall time: 2.25 ms\n"
       ]
      }
     ],
     "prompt_number": 6
    },
    {
     "cell_type": "code",
     "collapsed": false,
     "input": [
      "%time jobs2 = \\\n",
      "[(input2, job_server.submit(kludgy_read_csv_wrapper2, (input2,))) for input2 in mnth_by_mnth_files]"
     ],
     "language": "python",
     "metadata": {},
     "outputs": [
      {
       "output_type": "stream",
       "stream": "stdout",
       "text": [
        "CPU times: user 0 ns, sys: 0 ns, total: 0 ns\n",
        "Wall time: 993 \u00b5s\n"
       ]
      }
     ],
     "prompt_number": 7
    },
    {
     "cell_type": "code",
     "collapsed": false,
     "input": [
      "#delay1 = pd.DataFrame()\n",
      "for input, job1 in jobs1:\n",
      "    for i in range(job1().shape[0])\n",
      "        p\n",
      "#    delay1 = delay1.append(job1())"
     ],
     "language": "python",
     "metadata": {},
     "outputs": [],
     "prompt_number": "*"
    },
    {
     "cell_type": "code",
     "collapsed": false,
     "input": [
      "#delay2 = pd.DataFrame()\n",
      "for input2, job2 in jobs2: \n",
      "#    delay2 = delay2.append(job2())"
     ],
     "language": "python",
     "metadata": {},
     "outputs": [],
     "prompt_number": "*"
    },
    {
     "cell_type": "code",
     "collapsed": false,
     "input": [
      "#delay2 = np.array(delay2)"
     ],
     "language": "python",
     "metadata": {},
     "outputs": [],
     "prompt_number": "*"
    },
    {
     "cell_type": "code",
     "collapsed": false,
     "input": [
      "#delay2 = pd.DataFrame(delay2, columns=[\"ArrDelay\"])"
     ],
     "language": "python",
     "metadata": {},
     "outputs": [],
     "prompt_number": "*"
    },
    {
     "cell_type": "code",
     "collapsed": false,
     "input": [
      "#total_delay = delay1.append(delay2)"
     ],
     "language": "python",
     "metadata": {},
     "outputs": [],
     "prompt_number": "*"
    },
    {
     "cell_type": "code",
     "collapsed": false,
     "input": [
      "#mean = total_delay.mean()\n",
      "#sd = total_delay.std()\n",
      "#median = total_delay.median()"
     ],
     "language": "python",
     "metadata": {},
     "outputs": [],
     "prompt_number": "*"
    },
    {
     "cell_type": "code",
     "collapsed": false,
     "input": [
      "#print \"mean = {0}\".format(mean[0])\n",
      "#print \"sd = {0}\".format(sd[0])\n",
      "#print \"median = {0}\".format(median[0])"
     ],
     "language": "python",
     "metadata": {},
     "outputs": [],
     "prompt_number": "*"
    }
   ],
   "metadata": {}
  }
 ]
}